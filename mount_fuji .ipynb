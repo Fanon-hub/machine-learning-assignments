{
 "cells": [
  {
   "cell_type": "code",
   "execution_count": 8,
   "metadata": {},
   "outputs": [
    {
     "name": "stdout",
     "output_type": "stream",
     "text": [
      "The paper needs to be folded 26 times to exceed the height of Mt. Fuji.\n"
     ]
    }
   ],
   "source": [
    "# Constants\n",
    "t0 = 0.00008  # initial thickness of paper in meters\n",
    "mt_fuji_height = 3776  # height of Mt. Fuji in meters\n",
    "\n",
    "# Initialize variables\n",
    "folds = 0\n",
    "thickness = t0\n",
    "\n",
    "# Calculate the number of folds needed\n",
    "while thickness <= mt_fuji_height:\n",
    "    thickness *= 2\n",
    "    folds += 1\n",
    "\n",
    "# Output the result\n",
    "print(f\"The paper needs to be folded {folds} times to exceed the height of Mt. Fuji.\")"
   ]
  },
  {
   "cell_type": "code",
   "execution_count": 9,
   "metadata": {},
   "outputs": [
    {
     "name": "stdout",
     "output_type": "stream",
     "text": [
      "It would take 69 folds to reach Proxima Centauri.\n"
     ]
    }
   ],
   "source": [
    "def folds_to_exceed_height(height, t0=0.00008):\n",
    "    folds = 0\n",
    "    thickness = t0\n",
    "\n",
    "    while thickness <= height:\n",
    "        folds += 1\n",
    "        thickness *= 2\n",
    "    \n",
    "    return folds\n",
    "\n",
    "proxima_centauri_distance = 4.0175 * 10**16\n",
    "folds_to_proxima_centauri = folds_to_exceed_height(proxima_centauri_distance)\n",
    "\n",
    "print(f\"It would take {folds_to_proxima_centauri} folds to reach Proxima Centauri.\")\n"
   ]
  },
  {
   "cell_type": "code",
   "execution_count": 10,
   "metadata": {},
   "outputs": [
    {
     "name": "stdout",
     "output_type": "stream",
     "text": [
      "Number of folds needed to reach the Moon are 43, and the length of the paper is -0.00016755160819145566 meters at a distance of 384400000 meters.\n",
      "Number of folds needed to reach Mount Fuji are 26, and the length of the paper is -0.00016755160819145566 meters at a distance of 3776 meters.\n",
      "Number of folds needed to reach Proxima Centauri are 69, and the length of the paper is -0.00016755160819145566 meters at a distance of 4.0175e+16 meters.\n"
     ]
    }
   ],
   "source": [
    "import math\n",
    "def folds_to_exceed_height_and_length(height, t0=0.00008, p=1):\n",
    "    \n",
    "    # Calculate the number of folds needed to exceed the given height\n",
    "\n",
    "    folds=0\n",
    "    thickness = t0\n",
    "    # calculate length using the formula\n",
    "    length = (math.pi * t0 / 6) * ((2*folds + 4) * (2*folds - 1))\n",
    "\n",
    "    while thickness <= height:\n",
    "        folds += 1\n",
    "        thickness *= 2\n",
    "    return folds, length\n",
    "\n",
    "\n",
    "# Constants \n",
    "moon_distance = 384400000  # Distance to the Moon in meters\n",
    "mt_fuji_height = 3776  # Height of Mount Fuji in meters\n",
    "proxima_centauri_distance = 4.0175e16  # Distance to Proxima Centauri in meters\n",
    "\n",
    "# Calculate for moon\n",
    "folds_moon, length_moon = folds_to_exceed_height_and_length(moon_distance)\n",
    "# Calculate for Mount Fuji\n",
    "folds_fuji, length_fuji = folds_to_exceed_height_and_length(mt_fuji_height)\n",
    "# Calculate for Proxima Centauri\n",
    "folds_proxima, length_proxima = folds_to_exceed_height_and_length(proxima_centauri_distance)\n",
    "\n",
    "# Print the results\n",
    "print(f\"Number of folds needed to reach the Moon are {folds_moon}, and the length of the paper is {length_moon} meters at a distance of {moon_distance} meters.\")\n",
    "print(f\"Number of folds needed to reach Mount Fuji are {folds_fuji}, and the length of the paper is {length_fuji} meters at a distance of {mt_fuji_height} meters.\")\n",
    "print(f\"Number of folds needed to reach Proxima Centauri are {folds_proxima}, and the length of the paper is {length_proxima} meters at a distance of {proxima_centauri_distance} meters.\")\n",
    "\n",
    "\n",
    "\n",
    "\n"
   ]
  }
 ],
 "metadata": {
  "kernelspec": {
   "display_name": "Python 3",
   "language": "python",
   "name": "python3"
  },
  "language_info": {
   "codemirror_mode": {
    "name": "ipython",
    "version": 3
   },
   "file_extension": ".py",
   "mimetype": "text/x-python",
   "name": "python",
   "nbconvert_exporter": "python",
   "pygments_lexer": "ipython3",
   "version": "3.13.0"
  }
 },
 "nbformat": 4,
 "nbformat_minor": 2
}
