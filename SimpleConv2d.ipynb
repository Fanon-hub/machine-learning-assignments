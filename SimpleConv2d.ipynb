{
 "cells": [
  {
   "metadata": {},
   "cell_type": "markdown",
   "source": [
    "Problem 1 - Creating a 2-D convolutional layer\n",
    "\n",
    "Conv1d Class"
   ],
   "id": "cf76f919ca403da9"
  },
  {
   "cell_type": "code",
   "id": "initial_id",
   "metadata": {
    "collapsed": true,
    "ExecuteTime": {
     "end_time": "2024-12-16T13:44:07.702192Z",
     "start_time": "2024-12-16T13:44:07.675569Z"
    }
   },
   "source": [
    "import numpy as np\n",
    "\n",
    "class Conv1d:\n",
    "    def __init__(self, input_channels, output_channels, kernel_size, stride=1, padding=0):\n",
    "        self.input_channels = input_channels\n",
    "        self.output_channels = output_channels\n",
    "        self.kernel_size = kernel_size\n",
    "        self.stride = stride\n",
    "        self.padding = padding\n",
    "\n",
    "        # Initializing weights and biases\n",
    "        self.weights = np.random.randn(output_channels, input_channels, kernel_size) * 0.01\n",
    "        self.biases = np.zeros(output_channels)\n",
    "\n",
    "    def forward(self, x):\n",
    "        # Applying padding to the input\n",
    "        if self.padding > 0:\n",
    "            x = np.pad(x, ((0, 0), (self.padding, self.padding)), mode='constant', constant_values=0)\n",
    "\n",
    "        n_samples, in_channels, in_width = x.shape\n",
    "        out_width = (in_width - self.kernel_size + 2 * self.padding) // self.stride + 1\n",
    "        output = np.zeros((n_samples, self.output_channels, out_width))\n",
    "\n",
    "        for i in range(n_samples):\n",
    "            for m in range(self.output_channels):\n",
    "                for j in range(out_width):\n",
    "                    start = j * self.stride\n",
    "                    end = start + self.kernel_size\n",
    "                    region = x[i, :, start:end]\n",
    "                    output[i, m, j] = np.sum(region * self.weights[m]) + self.biases[m]\n",
    "\n",
    "        return output\n",
    "\n",
    "    def backward(self, x, grad_output, learning_rate):\n",
    "        n_samples, in_channels, in_width = x.shape\n",
    "        grad_weights = np.zeros_like(self.weights)\n",
    "        grad_biases = np.zeros_like(self.biases)\n",
    "        grad_input = np.zeros_like(x)\n",
    "\n",
    "        for i in range(n_samples):\n",
    "            for m in range(self.output_channels):\n",
    "                for j in range(grad_output.shape[2]):\n",
    "                    start = j * self.stride\n",
    "                    end = start + self.kernel_size\n",
    "                    region = x[i, :, start:end]\n",
    "\n",
    "                    grad_output_value = grad_output[i, m, j]\n",
    "\n",
    "                    grad_weights[m] += grad_output_value * region\n",
    "                    grad_biases[m] += grad_output_value\n",
    "                    grad_input[i, :, start:end] += grad_output_value * self.weights[m]\n",
    "\n",
    "        # Updating weights and biases\n",
    "        self.weights -= learning_rate * grad_weights\n",
    "        self.biases -= learning_rate * grad_biases\n",
    "\n",
    "        return grad_input\n"
   ],
   "outputs": [],
   "execution_count": 25
  },
  {
   "metadata": {},
   "cell_type": "markdown",
   "source": "Conv2d Class",
   "id": "1391522b9105d42a"
  },
  {
   "metadata": {
    "ExecuteTime": {
     "end_time": "2024-12-16T13:44:07.813383Z",
     "start_time": "2024-12-16T13:44:07.725185Z"
    }
   },
   "cell_type": "code",
   "source": [
    "class Conv2d:\n",
    "    def __init__(self, input_channels, output_channels, kernel_size, stride=1, padding=0):\n",
    "        self.input_channels = input_channels\n",
    "        self.output_channels = output_channels\n",
    "        self.kernel_size = kernel_size\n",
    "        self.stride = stride\n",
    "        self.padding = padding\n",
    "\n",
    "        # Initializing weights and biases\n",
    "        self.weights = np.random.randn(output_channels, input_channels, kernel_size, kernel_size) * 0.01\n",
    "        self.biases = np.zeros(output_channels)\n",
    "\n",
    "    def forward(self, x):\n",
    "        # Applying padding to the input\n",
    "        if self.padding > 0:\n",
    "            x = np.pad(x, ((0, 0), (0, 0), (self.padding, self.padding), (self.padding, self.padding)), mode='constant', constant_values=0)\n",
    "\n",
    "        n_samples, in_channels, in_height, in_width = x.shape\n",
    "        out_height = (in_height - self.kernel_size + 2 * self.padding) // self.stride + 1\n",
    "        out_width = (in_width - self.kernel_size + 2 * self.padding) // self.stride + 1\n",
    "        output = np.zeros((n_samples, self.output_channels, out_height, out_width))\n",
    "\n",
    "        for i in range(n_samples):\n",
    "            for m in range(self.output_channels):\n",
    "                for j in range(out_height):\n",
    "                    for k in range(out_width):\n",
    "                        start_h = j * self.stride\n",
    "                        start_w = k * self.stride\n",
    "                        region = x[i, :, start_h:start_h+self.kernel_size, start_w:start_w+self.kernel_size]\n",
    "                        output[i, m, j, k] = np.sum(region * self.weights[m]) + self.biases[m]\n",
    "\n",
    "        return output\n",
    "\n",
    "    def backward(self, x, grad_output, learning_rate):\n",
    "        n_samples, in_channels, in_height, in_width = x.shape\n",
    "        grad_weights = np.zeros_like(self.weights)\n",
    "        grad_biases = np.zeros_like(self.biases)\n",
    "        grad_input = np.zeros_like(x)\n",
    "\n",
    "        for i in range(n_samples):\n",
    "            for m in range(self.output_channels):\n",
    "                for j in range(grad_output.shape[2]):\n",
    "                    for k in range(grad_output.shape[3]):\n",
    "                        start_h = j * self.stride\n",
    "                        start_w = k * self.stride\n",
    "                        region = x[i, :, start_h:start_h+self.kernel_size, start_w:start_w+self.kernel_size]\n",
    "\n",
    "                        grad_output_value = grad_output[i, m, j, k]\n",
    "\n",
    "                        grad_weights[m] += grad_output_value * region\n",
    "                        grad_biases[m] += grad_output_value\n",
    "                        grad_input[i, :, start_h:start_h+self.kernel_size, start_w:start_w+self.kernel_size] += grad_output_value * self.weights[m]\n",
    "\n",
    "        # Updating weights and biases\n",
    "        self.weights -= learning_rate * grad_weights\n",
    "        self.biases -= learning_rate * grad_biases\n",
    "\n",
    "        return grad_input\n"
   ],
   "id": "8e604ba692275fd0",
   "outputs": [],
   "execution_count": 26
  },
  {
   "metadata": {},
   "cell_type": "markdown",
   "source": "Problem 2 - Experiments with 2D convolutional layers on small arrays",
   "id": "65e4375e3bd46889"
  },
  {
   "metadata": {
    "ExecuteTime": {
     "end_time": "2024-12-16T13:44:07.979956Z",
     "start_time": "2024-12-16T13:44:07.913316Z"
    }
   },
   "cell_type": "code",
   "source": [
    "import numpy as np\n",
    "\n",
    "class Conv2d:\n",
    "    def __init__(self, weights, bias):\n",
    "        # weights shape: (num_filters, num_channels, filter_height, filter_width)\n",
    "        self.weights = weights\n",
    "        self.bias = bias\n",
    "\n",
    "    def forward(self, x):\n",
    "        # x shape: (batch_size, num_channels, height, width)\n",
    "        batch_size, num_channels, height, width = x.shape\n",
    "        num_filters, _, filter_height, filter_width = self.weights.shape\n",
    "\n",
    "        # Calculating output dimensions\n",
    "        out_height = height - filter_height + 1\n",
    "        out_width = width - filter_width + 1\n",
    "\n",
    "        # Initializing output array\n",
    "        out = np.zeros((batch_size, num_filters, out_height, out_width))\n",
    "\n",
    "        # Performing convolution\n",
    "        for b in range(batch_size):\n",
    "            for f in range(num_filters):\n",
    "                for i in range(out_height):\n",
    "                    for j in range(out_width):\n",
    "                        for c in range(num_channels):\n",
    "                            # Extracting the region of interest from input\n",
    "                            region = x[b, c, i:i+filter_height, j:j+filter_width]\n",
    "                            # Performing convolution (element-wise multiplication + sum)\n",
    "                            out[b, f, i, j] += np.sum(region * self.weights[f, c]) + self.bias[f]\n",
    "        return out\n",
    "\n",
    "    def backward(self, x, delta):\n",
    "        # x shape: (batch_size, num_channels, height, width)\n",
    "        # delta shape: (batch_size, num_filters, out_height, out_width)\n",
    "        batch_size, num_channels, height, width = x.shape\n",
    "        num_filters, _, filter_height, filter_width = self.weights.shape\n",
    "\n",
    "        # Initializing gradients with float64 type\n",
    "        dW = np.zeros_like(self.weights, dtype=np.float64)\n",
    "        dB = np.zeros_like(self.bias, dtype=np.float64)\n",
    "        dx = np.zeros_like(x, dtype=np.float64)\n",
    "\n",
    "        # Performing backpropagation\n",
    "        for b in range(batch_size):\n",
    "            for f in range(num_filters):\n",
    "                for i in range(delta.shape[2]):\n",
    "                    for j in range(delta.shape[3]):\n",
    "                        # Extracting region of interest\n",
    "                        region = x[b, :, i:i+filter_height, j:j+filter_width]\n",
    "                        # Gradient of the weights\n",
    "                        dW[f] += region * delta[b, f, i, j]\n",
    "                        # Gradient of the bias\n",
    "                        dB[f] += delta[b, f, i, j]\n",
    "                        # Gradient of the input (dx)\n",
    "                        for c in range(num_channels):\n",
    "                            dx[b, c, i:i+filter_height, j:j+filter_width] += self.weights[f, c] * delta[b, f, i, j]\n",
    "\n",
    "        return dW, dB, dx\n",
    "\n",
    "\n",
    "# Defining the input (1,1,4,4)\n",
    "x = np.array([[[[ 1,  2,  3,  4],\n",
    "                [ 5,  6,  7,  8],\n",
    "                [ 9, 10, 11, 12],\n",
    "                [13, 14, 15, 16]]]])\n",
    "\n",
    "# Defining the weights (2,1,3,3)\n",
    "w = np.array([[[[ 0.,  0.,  0.],\n",
    "                [ 0.,  1.,  0.],\n",
    "                [ 0., -1.,  0.]],\n",
    "\n",
    "               [[ 0.,  0.,  0.],\n",
    "                [ 0., -1.,  1.],\n",
    "                [ 0.,  0.,  0.]]]])\n",
    "\n",
    "# Defining the bias\n",
    "b = np.array([0, 0])\n",
    "\n",
    "# Creating Conv2d layer\n",
    "conv_layer = Conv2d(w, b)\n",
    "\n",
    "# Forward pass\n",
    "output = conv_layer.forward(x)\n",
    "print(\"Forward Output:\")\n",
    "print(output)\n",
    "\n",
    "# Defining delta for backpropagation\n",
    "delta = np.array([[[[-4, -4],\n",
    "                    [ 10, 11]],\n",
    "\n",
    "                   [[ 1, -7],\n",
    "                    [ 1, -11]]]])\n",
    "\n",
    "# Backward pass\n",
    "dW, dB, dx = conv_layer.backward(x, delta)\n",
    "print(\"\\nGradient with respect to weights (dW):\")\n",
    "print(dW)\n",
    "print(\"\\nGradient with respect to biases (dB):\")\n",
    "print(dB)\n",
    "print(\"\\nGradient with respect to input (dx):\")\n",
    "print(dx)\n"
   ],
   "id": "e2efd140614130d7",
   "outputs": [
    {
     "name": "stdout",
     "output_type": "stream",
     "text": [
      "Forward Output:\n",
      "[[[[-4. -4.]\n",
      "   [-4. -4.]]]]\n",
      "\n",
      "Gradient with respect to weights (dW):\n",
      "[[[[104. 117. 130.]\n",
      "   [156. 169. 182.]\n",
      "   [208. 221. 234.]]\n",
      "\n",
      "  [[104. 117. 130.]\n",
      "   [156. 169. 182.]\n",
      "   [208. 221. 234.]]]]\n",
      "\n",
      "Gradient with respect to biases (dB):\n",
      "[13.  0.]\n",
      "\n",
      "Gradient with respect to input (dx):\n",
      "[[[[  0.   0.   0.   0.]\n",
      "   [  0.  -4.  -4.   0.]\n",
      "   [  0.  14.  15.   0.]\n",
      "   [  0. -10. -11.   0.]]]]\n"
     ]
    }
   ],
   "execution_count": 27
  },
  {
   "metadata": {},
   "cell_type": "markdown",
   "source": "Problem 3 - Output size after 2-dimensional convolution",
   "id": "273724e91a557a3e"
  },
  {
   "metadata": {
    "ExecuteTime": {
     "end_time": "2024-12-16T13:44:08.120848Z",
     "start_time": "2024-12-16T13:44:08.087890Z"
    }
   },
   "cell_type": "code",
   "source": [
    "def calculate_output_size(input_size, filter_size, padding, stride):\n",
    "    \"\"\"\n",
    "    Calculating the output size of a feature map after applying a convolution operation.\n",
    "\n",
    "    Parameters:\n",
    "    - input_size: The size of the input feature map (height or width).\n",
    "    - filter_size: The size of the filter (height or width).\n",
    "    - padding: The number of paddings applied in one direction.\n",
    "    - stride: The stride size.\n",
    "\n",
    "    Returns:\n",
    "    - output_size: The size of the output feature map (height or width).\n",
    "    \"\"\"\n",
    "    output_size = (input_size + 2 * padding - filter_size) // stride + 1\n",
    "    return output_size\n",
    "\n",
    "# Example\n",
    "input_height = 4\n",
    "input_width = 4\n",
    "filter_size = 3\n",
    "padding = 0\n",
    "stride = 1\n",
    "\n",
    "output_height = calculate_output_size(input_height, filter_size, padding, stride)\n",
    "output_width = calculate_output_size(input_width, filter_size, padding, stride)\n",
    "\n",
    "print(f\"Output Height: {output_height}\")\n",
    "print(f\"Output Width: {output_width}\")\n"
   ],
   "id": "2888a7a783a1a6e8",
   "outputs": [
    {
     "name": "stdout",
     "output_type": "stream",
     "text": [
      "Output Height: 2\n",
      "Output Width: 2\n"
     ]
    }
   ],
   "execution_count": 28
  },
  {
   "metadata": {},
   "cell_type": "markdown",
   "source": "Problem 4 - Creation of maximum pooling layer",
   "id": "4d64bab6b8124c60"
  },
  {
   "metadata": {
    "ExecuteTime": {
     "end_time": "2024-12-16T13:44:08.350Z",
     "start_time": "2024-12-16T13:44:08.294744Z"
    }
   },
   "cell_type": "code",
   "source": [
    "import numpy as np\n",
    "\n",
    "class MaxPool2D:\n",
    "    def __init__(self, pool_size, stride):\n",
    "        \"\"\"\n",
    "        Initializing the MaxPool2D layer with the given pool size and stride.\n",
    "\n",
    "        Parameters:\n",
    "        - pool_size: Tuple (height, width) of the pooling window.\n",
    "        - stride: Stride size for the pooling operation.\n",
    "        \"\"\"\n",
    "        self.pool_size = pool_size\n",
    "        self.stride = stride\n",
    "\n",
    "    def forward(self, x):\n",
    "        \"\"\"\n",
    "        Performing the forward pass of the MaxPool2D layer.\n",
    "\n",
    "        Parameters:\n",
    "        - x: Input array with shape (batch_size, channels, height, width).\n",
    "\n",
    "        Returns:\n",
    "        - Outputing the array after applying max pooling.\n",
    "        \"\"\"\n",
    "        self.input = x\n",
    "        batch_size, channels, height, width = x.shape\n",
    "        pool_height, pool_width = self.pool_size\n",
    "        stride = self.stride\n",
    "\n",
    "        # Calculating the output dimensions\n",
    "        output_height = (height - pool_height) // stride + 1\n",
    "        output_width = (width - pool_width) // stride + 1\n",
    "\n",
    "        # Initializing the output array\n",
    "        output = np.zeros((batch_size, channels, output_height, output_width))\n",
    "\n",
    "        # Keeping the track of the indices of the maximum values for backpropagation\n",
    "        self.max_indices = np.zeros((batch_size, channels, output_height, output_width, 2), dtype=int)\n",
    "\n",
    "        # Performing max pooling\n",
    "        for b in range(batch_size):\n",
    "            for c in range(channels):\n",
    "                for i in range(output_height):\n",
    "                    for j in range(output_width):\n",
    "                        # Defining the pooling window\n",
    "                        h_start = i * stride\n",
    "                        h_end = h_start + pool_height\n",
    "                        w_start = j * stride\n",
    "                        w_end = w_start + pool_width\n",
    "\n",
    "                        # Extracting the pooling window\n",
    "                        window = x[b, c, h_start:h_end, w_start:w_end]\n",
    "\n",
    "                        # Finding the maximum value and its indices\n",
    "                        max_val = np.max(window)\n",
    "                        max_pos = np.unravel_index(np.argmax(window), window.shape)\n",
    "\n",
    "                        # Assigning the max value to the output\n",
    "                        output[b, c, i, j] = max_val\n",
    "\n",
    "                        # Store the indices of the max value for backpropagation\n",
    "                        self.max_indices[b, c, i, j] = (max_pos[0] + h_start, max_pos[1] + w_start)\n",
    "\n",
    "        return output\n",
    "\n",
    "    def backward(self, delta):\n",
    "        \"\"\"\n",
    "        Performing the backward pass of the MaxPool2D layer.\n",
    "\n",
    "        Parameters:\n",
    "        - delta: Gradient of the loss with respect to the output (shape: batch_size, channels, height, width).\n",
    "\n",
    "        Returns:\n",
    "        - Gradient with respect to the input (dx).\n",
    "        \"\"\"\n",
    "        batch_size, channels, height, width = self.input.shape\n",
    "        pool_height, pool_width = self.pool_size\n",
    "        stride = self.stride\n",
    "\n",
    "        # Initializing the gradient with respect to input\n",
    "        dx = np.zeros_like(self.input)\n",
    "\n",
    "        # Backpropagate the gradient\n",
    "        for b in range(batch_size):\n",
    "            for c in range(channels):\n",
    "                for i in range(height // stride):\n",
    "                    for j in range(width // stride):\n",
    "                        # Getting the position of the max value from the forward pass\n",
    "                        max_pos = self.max_indices[b, c, i, j]\n",
    "\n",
    "                        # Sending the gradient to the position where the maximum value occurred\n",
    "                        dx[b, c, max_pos[0], max_pos[1]] += delta[b, c, i, j]\n",
    "\n",
    "        return dx\n",
    "\n",
    "# Example\n",
    "input_data = np.array([[[[ 1,  2,  3,  4],\n",
    "                         [ 5,  6,  7,  8],\n",
    "                         [ 9, 10, 11, 12],\n",
    "                         [13, 14, 15, 16]]]])\n",
    "\n",
    "# Initializing the MaxPool2D layer with a pool size of (2, 2) and stride of 2\n",
    "maxpool = MaxPool2D(pool_size=(2, 2), stride=2)\n",
    "\n",
    "# Forward pass\n",
    "output = maxpool.forward(input_data)\n",
    "print(\"Forward Output:\\n\", output)\n",
    "\n",
    "# Simulating delta from the next layer (e.g., gradient of the loss)\n",
    "delta = np.array([[[[ 1,  2],\n",
    "                    [ 3,  4]],\n",
    "\n",
    "                   [[ 5,  6],\n",
    "                    [ 7,  8]]]])\n",
    "\n",
    "# Backward pass\n",
    "dx = maxpool.backward(delta)\n",
    "print(\"\\nBackward Gradient:\\n\", dx)\n"
   ],
   "id": "c59d76e1cd200fa5",
   "outputs": [
    {
     "name": "stdout",
     "output_type": "stream",
     "text": [
      "Forward Output:\n",
      " [[[[ 6.  8.]\n",
      "   [14. 16.]]]]\n",
      "\n",
      "Backward Gradient:\n",
      " [[[[0 0 0 0]\n",
      "   [0 1 0 2]\n",
      "   [0 0 0 0]\n",
      "   [0 3 0 4]]]]\n"
     ]
    }
   ],
   "execution_count": 29
  },
  {
   "metadata": {},
   "cell_type": "markdown",
   "source": "Problem 5 - (Advance task) Creating average pooling",
   "id": "edd886252d374dba"
  },
  {
   "metadata": {
    "ExecuteTime": {
     "end_time": "2024-12-16T13:44:08.472061Z",
     "start_time": "2024-12-16T13:44:08.434860Z"
    }
   },
   "cell_type": "code",
   "source": [
    "import numpy as np\n",
    "\n",
    "class AveragePool2D:\n",
    "    def __init__(self, pool_size, stride):\n",
    "        \"\"\"\n",
    "        Initializing the AveragePool2D layer with the given pool size and stride.\n",
    "\n",
    "        Parameters:\n",
    "        - pool_size: Tuple (height, width) of the pooling window.\n",
    "        - stride: Stride size for the pooling operation.\n",
    "        \"\"\"\n",
    "        self.pool_size = pool_size\n",
    "        self.stride = stride\n",
    "\n",
    "    def forward(self, x):\n",
    "        \"\"\"\n",
    "        Performing the forward pass of the AveragePool2D layer.\n",
    "\n",
    "        Parameters:\n",
    "        - x: Input array with shape (batch_size, channels, height, width).\n",
    "\n",
    "        Returns:\n",
    "        - Output array after applying average pooling.\n",
    "        \"\"\"\n",
    "        self.input = x\n",
    "        batch_size, channels, height, width = x.shape\n",
    "        pool_height, pool_width = self.pool_size\n",
    "        stride = self.stride\n",
    "\n",
    "        # Calculating the output dimensions\n",
    "        output_height = (height - pool_height) // stride + 1\n",
    "        output_width = (width - pool_width) // stride + 1\n",
    "\n",
    "        # Initializing the output array\n",
    "        output = np.zeros((batch_size, channels, output_height, output_width))\n",
    "\n",
    "        # Performing the average pooling\n",
    "        for b in range(batch_size):\n",
    "            for c in range(channels):\n",
    "                for i in range(output_height):\n",
    "                    for j in range(output_width):\n",
    "                        # Defining the pooling window\n",
    "                        h_start = i * stride\n",
    "                        h_end = h_start + pool_height\n",
    "                        w_start = j * stride\n",
    "                        w_end = w_start + pool_width\n",
    "\n",
    "                        # Extracting the pooling window\n",
    "                        window = x[b, c, h_start:h_end, w_start:w_end]\n",
    "\n",
    "                        # Computing the average value of the window\n",
    "                        output[b, c, i, j] = np.mean(window)\n",
    "\n",
    "        return output\n",
    "\n",
    "    def backward(self, delta):\n",
    "        \"\"\"\n",
    "        Performing the backward pass of the AveragePool2D layer.\n",
    "\n",
    "        Parameters:\n",
    "        - delta: Gradient of the loss with respect to the output (shape: batch_size, channels, height, width).\n",
    "\n",
    "        Returns:\n",
    "        - Gradient with respect to the input (dx).\n",
    "        \"\"\"\n",
    "        batch_size, channels, height, width = self.input.shape\n",
    "        pool_height, pool_width = self.pool_size\n",
    "        stride = self.stride\n",
    "\n",
    "        # Initializing the gradient with respect to input as float64\n",
    "        dx = np.zeros_like(self.input, dtype=np.float64)\n",
    "\n",
    "        # Backpropagate the gradient\n",
    "        for b in range(batch_size):\n",
    "            for c in range(channels):\n",
    "                for i in range(height // stride):\n",
    "                    for j in range(width // stride):\n",
    "                        # Getting the number of elements in the pooling window\n",
    "                        pool_area = pool_height * pool_width\n",
    "\n",
    "                        # Distributing the gradient equally across all positions in the pooling window\n",
    "                        h_start = i * stride\n",
    "                        h_end = h_start + pool_height\n",
    "                        w_start = j * stride\n",
    "                        w_end = w_start + pool_width\n",
    "\n",
    "                        # Backpropagate the average gradient\n",
    "                        dx[b, c, h_start:h_end, w_start:w_end] += delta[b, c, i, j] / pool_area\n",
    "\n",
    "        return dx\n",
    "\n",
    "# Example\n",
    "input_data = np.array([[[[ 1,  2,  3,  4],\n",
    "                         [ 5,  6,  7,  8],\n",
    "                         [ 9, 10, 11, 12],\n",
    "                         [13, 14, 15, 16]]]])\n",
    "\n",
    "# Initializing the AveragePool2D layer with a pool size of (2, 2) and stride of 2\n",
    "avgpool = AveragePool2D(pool_size=(2, 2), stride=2)\n",
    "\n",
    "# Forward pass\n",
    "output = avgpool.forward(input_data)\n",
    "print(\"Forward Output:\\n\", output)\n",
    "\n",
    "# Simulating delta from the next layer (e.g., gradient of the loss)\n",
    "delta = np.array([[[[ 1,  2],\n",
    "                    [ 3,  4]],\n",
    "\n",
    "                   [[ 5,  6],\n",
    "                    [ 7,  8]]]])\n",
    "\n",
    "# Backward pass\n",
    "dx = avgpool.backward(delta)\n",
    "print(\"\\nBackward Gradient:\\n\", dx)\n"
   ],
   "id": "958ae9d10f0e67f3",
   "outputs": [
    {
     "name": "stdout",
     "output_type": "stream",
     "text": [
      "Forward Output:\n",
      " [[[[ 3.5  5.5]\n",
      "   [11.5 13.5]]]]\n",
      "\n",
      "Backward Gradient:\n",
      " [[[[0.25 0.25 0.5  0.5 ]\n",
      "   [0.25 0.25 0.5  0.5 ]\n",
      "   [0.75 0.75 1.   1.  ]\n",
      "   [0.75 0.75 1.   1.  ]]]]\n"
     ]
    }
   ],
   "execution_count": 30
  },
  {
   "metadata": {},
   "cell_type": "markdown",
   "source": "Problem 6 - Smoothing",
   "id": "e7636295049f668e"
  },
  {
   "metadata": {
    "ExecuteTime": {
     "end_time": "2024-12-16T13:44:08.670852Z",
     "start_time": "2024-12-16T13:44:08.626653Z"
    }
   },
   "cell_type": "code",
   "source": [
    "import numpy as np\n",
    "\n",
    "class Flatten:\n",
    "    def __init__(self):\n",
    "        \"\"\"\n",
    "        Initializing the Flatten layer.\n",
    "        This layer will reshape the input tensor to a 1D vector in the forward pass\n",
    "        and restore the original shape in the backward pass.\n",
    "        \"\"\"\n",
    "        self.input_shape = None\n",
    "\n",
    "    def forward(self, x):\n",
    "        \"\"\"\n",
    "        Performing the forward pass of the Flatten layer.\n",
    "\n",
    "        Parameters:\n",
    "        - x: Input array with shape (batch_size, channels, height, width).\n",
    "\n",
    "        Returns:\n",
    "        - Output array reshaped to (batch_size, -1), where -1 indicates a flattened array.\n",
    "        \"\"\"\n",
    "        # Store the input shape to reshape during the backward pass\n",
    "        self.input_shape = x.shape\n",
    "\n",
    "        # Flattening the input array\n",
    "        batch_size = x.shape[0]\n",
    "        return x.reshape(batch_size, -1)\n",
    "\n",
    "    def backward(self, delta):\n",
    "        \"\"\"\n",
    "        Performing the backward pass of the Flatten layer.\n",
    "\n",
    "        Parameters:\n",
    "        - delta: Gradient of the loss with respect to the flattened output\n",
    "                 (shape: batch_size, flattened_size).\n",
    "\n",
    "        Returns:\n",
    "        - Gradient reshaped back to the original input shape.\n",
    "        \"\"\"\n",
    "        # Reshaping the delta to match the original input shape\n",
    "        return delta.reshape(self.input_shape)\n",
    "\n",
    "# Example\n",
    "# Input with shape (batch_size, channels, height, width)\n",
    "input_data = np.array([[[[1, 2],\n",
    "                         [3, 4]],\n",
    "\n",
    "                        [[5, 6],\n",
    "                         [7, 8]]]])\n",
    "\n",
    "# Initializing the Flatten layer\n",
    "flatten_layer = Flatten()\n",
    "\n",
    "# Forward pass\n",
    "flattened_output = flatten_layer.forward(input_data)\n",
    "print(\"Forward Output (Flattened):\\n\", flattened_output)\n",
    "\n",
    "# Simulated gradient from the next layer (same shape as the flattened output)\n",
    "delta = np.array([[1, 2, 3, 4, 5, 6, 7, 8]])\n",
    "\n",
    "# Backward pass\n",
    "reshaped_delta = flatten_layer.backward(delta)\n",
    "print(\"\\nBackward Output (Reshaped):\\n\", reshaped_delta)\n"
   ],
   "id": "c2cf37bf76b8f7e5",
   "outputs": [
    {
     "name": "stdout",
     "output_type": "stream",
     "text": [
      "Forward Output (Flattened):\n",
      " [[1 2 3 4 5 6 7 8]]\n",
      "\n",
      "Backward Output (Reshaped):\n",
      " [[[[1 2]\n",
      "   [3 4]]\n",
      "\n",
      "  [[5 6]\n",
      "   [7 8]]]]\n"
     ]
    }
   ],
   "execution_count": 31
  },
  {
   "metadata": {},
   "cell_type": "markdown",
   "source": "Problem 7 - Learning and Estimation",
   "id": "640fc4e41f1fa015"
  },
  {
   "metadata": {},
   "cell_type": "markdown",
   "source": "Convolutional Layer Implementation",
   "id": "16f16a0a7fa78acb"
  },
  {
   "metadata": {
    "ExecuteTime": {
     "end_time": "2024-12-16T13:44:08.909746Z",
     "start_time": "2024-12-16T13:44:08.866247Z"
    }
   },
   "cell_type": "code",
   "source": [
    "import numpy as np\n",
    "\n",
    "class Conv2d:\n",
    "    def __init__(self, input_channels, output_channels, kernel_size, stride=1, padding=0):\n",
    "        \"\"\"\n",
    "        Initializing a 2D convolutional layer.\n",
    "        Parameters:\n",
    "        - input_channels: Number of input channels.\n",
    "        - output_channels: Number of output channels (filters).\n",
    "        - kernel_size: Size of the convolution kernel (assumed square).\n",
    "        - stride: Stride of the convolution.\n",
    "        - padding: Amount of zero-padding around the input.\n",
    "        \"\"\"\n",
    "        self.input_channels = input_channels\n",
    "        self.output_channels = output_channels\n",
    "        self.kernel_size = kernel_size\n",
    "        self.stride = stride\n",
    "        self.padding = padding\n",
    "\n",
    "        # Initializing weights and biases\n",
    "        self.weights = np.random.randn(output_channels, input_channels, kernel_size, kernel_size) * 0.01\n",
    "        self.biases = np.zeros((output_channels, 1))\n",
    "\n",
    "    def forward(self, x):\n",
    "        \"\"\"\n",
    "        Performing the forward pass of the convolution.\n",
    "        Parameters:\n",
    "        - x: Input array of shape (batch_size, input_channels, height, width).\n",
    "        Returns:\n",
    "        - Output array after applying the convolution.\n",
    "        \"\"\"\n",
    "        self.input = x\n",
    "        batch_size, _, height, width = x.shape\n",
    "\n",
    "        # Calculating output dimensions\n",
    "        out_height = (height - self.kernel_size + 2 * self.padding) // self.stride + 1\n",
    "        out_width = (width - self.kernel_size + 2 * self.padding) // self.stride + 1\n",
    "\n",
    "        # Applying padding if needed\n",
    "        if self.padding > 0:\n",
    "            x = np.pad(x, ((0, 0), (0, 0), (self.padding, self.padding), (self.padding, self.padding)), mode='constant')\n",
    "\n",
    "        # Initializing output\n",
    "        self.output = np.zeros((batch_size, self.output_channels, out_height, out_width))\n",
    "\n",
    "        # Performing the convolution\n",
    "        for b in range(batch_size):\n",
    "            for o in range(self.output_channels):\n",
    "                for i in range(0, height, self.stride):\n",
    "                    for j in range(0, width, self.stride):\n",
    "                        region = x[b, :, i:i+self.kernel_size, j:j+self.kernel_size]\n",
    "                        self.output[b, o, i // self.stride, j // self.stride] = np.sum(\n",
    "                            region * self.weights[o, :, :, :]) + self.biases[o]\n",
    "\n",
    "        return self.output\n",
    "\n",
    "    def backward(self, delta):\n",
    "        # To implement backpropagation logic for the Conv2d layer\n",
    "        pass  # For now, we can skip the backward step.\n"
   ],
   "id": "9cd5e23afc705985",
   "outputs": [],
   "execution_count": 32
  },
  {
   "metadata": {},
   "cell_type": "markdown",
   "source": "Activation Function (ReLU)",
   "id": "adafefd65b5f418a"
  },
  {
   "metadata": {
    "ExecuteTime": {
     "end_time": "2024-12-16T13:44:09.006690Z",
     "start_time": "2024-12-16T13:44:08.992698Z"
    }
   },
   "cell_type": "code",
   "source": [
    "class ReLU:\n",
    "    def forward(self, x):\n",
    "        self.input = x\n",
    "        return np.maximum(0, x)\n",
    "\n",
    "    def backward(self, delta):\n",
    "        return delta * (self.input > 0)\n"
   ],
   "id": "e2739da4e71e38b6",
   "outputs": [],
   "execution_count": 33
  },
  {
   "metadata": {},
   "cell_type": "markdown",
   "source": "MNIST Dataset Loading",
   "id": "6df8afe40d671676"
  },
  {
   "metadata": {
    "ExecuteTime": {
     "end_time": "2024-12-16T13:44:19.833936Z",
     "start_time": "2024-12-16T13:44:09.090643Z"
    }
   },
   "cell_type": "code",
   "source": [
    "import tensorflow as tf\n",
    "import pandas as pd\n",
    "import numpy as np\n",
    "\n",
    "# Loading the training and test CSV files\n",
    "train_df = pd.read_csv('mnist_train.csv')\n",
    "test_df = pd.read_csv('mnist_test.csv')\n",
    "\n",
    "# Separating the features (pixels) and labels\n",
    "X_train = train_df.iloc[:, 1:].values  # Assuming the first column is labels\n",
    "y_train = train_df.iloc[:, 0].values   # Assuming the rest are pixel values\n",
    "\n",
    "X_test = test_df.iloc[:, 1:].values\n",
    "y_test = test_df.iloc[:, 0].values\n",
    "\n",
    "# Normalizing the pixel values to the range [0, 1]\n",
    "X_train = X_train.astype('float32') / 255.0\n",
    "X_test = X_test.astype('float32') / 255.0\n",
    "\n",
    "# Reshaping to the required input shape for CNN if needed\n",
    "X_train = X_train.reshape(-1, 28, 28, 1)\n",
    "X_test = X_test.reshape(-1, 28, 28, 1)\n",
    "\n",
    "# Converting labels to categorical format (one-hot encoding)\n",
    "y_train = tf.keras.utils.to_categorical(y_train, 10)\n",
    "y_test = tf.keras.utils.to_categorical(y_test, 10)\n",
    "\n",
    "# Creating TensorFlow Dataset (optional)\n",
    "train_dataset = tf.data.Dataset.from_tensor_slices((X_train, y_train))\n",
    "test_dataset = tf.data.Dataset.from_tensor_slices((X_test, y_test))\n",
    "\n",
    "# Batch the dataset\n",
    "train_dataset = train_dataset.batch(32)\n",
    "test_dataset = test_dataset.batch(32)\n",
    "\n",
    "# Building the CNN Model\n",
    "from tensorflow.keras import layers, models, Input\n",
    "\n",
    "# Defining the CNN model\n",
    "def create_cnn():\n",
    "    model = models.Sequential([\n",
    "        # Add an Input layer explicitly\n",
    "        Input(shape=(28, 28, 1)),\n",
    "\n",
    "        # First Convolutional Layer\n",
    "        layers.Conv2D(32, (3, 3), activation='relu'),\n",
    "        layers.MaxPooling2D((2, 2)),\n",
    "\n",
    "        # Second Convolutional Layer\n",
    "        layers.Conv2D(64, (3, 3), activation='relu'),\n",
    "        layers.MaxPooling2D((2, 2)),\n",
    "\n",
    "        # Flatten the feature maps\n",
    "        layers.Flatten(),\n",
    "\n",
    "        # Fully Connected Layers\n",
    "        layers.Dense(128, activation='relu'),\n",
    "        layers.Dense(10, activation='softmax')  # Output layer for 10 classes\n",
    "    ])\n",
    "    return model\n",
    "\n",
    "# Instantiating the model\n",
    "model = create_cnn()\n",
    "\n",
    "# Compiling the model\n",
    "model.compile(optimizer='adam',\n",
    "              loss='categorical_crossentropy',\n",
    "              metrics=['accuracy'])\n",
    "\n",
    "# Displaying the model architecture\n",
    "model.summary()\n",
    "\n"
   ],
   "id": "fb0e3b978d581e61",
   "outputs": [
    {
     "data": {
      "text/plain": [
       "\u001B[1mModel: \"sequential_5\"\u001B[0m\n"
      ],
      "text/html": [
       "<pre style=\"white-space:pre;overflow-x:auto;line-height:normal;font-family:Menlo,'DejaVu Sans Mono',consolas,'Courier New',monospace\"><span style=\"font-weight: bold\">Model: \"sequential_5\"</span>\n",
       "</pre>\n"
      ]
     },
     "metadata": {},
     "output_type": "display_data"
    },
    {
     "data": {
      "text/plain": [
       "┏━━━━━━━━━━━━━━━━━━━━━━━━━━━━━━━━━┳━━━━━━━━━━━━━━━━━━━━━━━━┳━━━━━━━━━━━━━━━┓\n",
       "┃\u001B[1m \u001B[0m\u001B[1mLayer (type)                   \u001B[0m\u001B[1m \u001B[0m┃\u001B[1m \u001B[0m\u001B[1mOutput Shape          \u001B[0m\u001B[1m \u001B[0m┃\u001B[1m \u001B[0m\u001B[1m      Param #\u001B[0m\u001B[1m \u001B[0m┃\n",
       "┡━━━━━━━━━━━━━━━━━━━━━━━━━━━━━━━━━╇━━━━━━━━━━━━━━━━━━━━━━━━╇━━━━━━━━━━━━━━━┩\n",
       "│ conv2d_10 (\u001B[38;5;33mConv2D\u001B[0m)              │ (\u001B[38;5;45mNone\u001B[0m, \u001B[38;5;34m26\u001B[0m, \u001B[38;5;34m26\u001B[0m, \u001B[38;5;34m32\u001B[0m)     │           \u001B[38;5;34m320\u001B[0m │\n",
       "├─────────────────────────────────┼────────────────────────┼───────────────┤\n",
       "│ max_pooling2d_4 (\u001B[38;5;33mMaxPooling2D\u001B[0m)  │ (\u001B[38;5;45mNone\u001B[0m, \u001B[38;5;34m13\u001B[0m, \u001B[38;5;34m13\u001B[0m, \u001B[38;5;34m32\u001B[0m)     │             \u001B[38;5;34m0\u001B[0m │\n",
       "├─────────────────────────────────┼────────────────────────┼───────────────┤\n",
       "│ conv2d_11 (\u001B[38;5;33mConv2D\u001B[0m)              │ (\u001B[38;5;45mNone\u001B[0m, \u001B[38;5;34m11\u001B[0m, \u001B[38;5;34m11\u001B[0m, \u001B[38;5;34m64\u001B[0m)     │        \u001B[38;5;34m18,496\u001B[0m │\n",
       "├─────────────────────────────────┼────────────────────────┼───────────────┤\n",
       "│ max_pooling2d_5 (\u001B[38;5;33mMaxPooling2D\u001B[0m)  │ (\u001B[38;5;45mNone\u001B[0m, \u001B[38;5;34m5\u001B[0m, \u001B[38;5;34m5\u001B[0m, \u001B[38;5;34m64\u001B[0m)       │             \u001B[38;5;34m0\u001B[0m │\n",
       "├─────────────────────────────────┼────────────────────────┼───────────────┤\n",
       "│ flatten_5 (\u001B[38;5;33mFlatten\u001B[0m)             │ (\u001B[38;5;45mNone\u001B[0m, \u001B[38;5;34m1600\u001B[0m)           │             \u001B[38;5;34m0\u001B[0m │\n",
       "├─────────────────────────────────┼────────────────────────┼───────────────┤\n",
       "│ dense_13 (\u001B[38;5;33mDense\u001B[0m)                │ (\u001B[38;5;45mNone\u001B[0m, \u001B[38;5;34m128\u001B[0m)            │       \u001B[38;5;34m204,928\u001B[0m │\n",
       "├─────────────────────────────────┼────────────────────────┼───────────────┤\n",
       "│ dense_14 (\u001B[38;5;33mDense\u001B[0m)                │ (\u001B[38;5;45mNone\u001B[0m, \u001B[38;5;34m10\u001B[0m)             │         \u001B[38;5;34m1,290\u001B[0m │\n",
       "└─────────────────────────────────┴────────────────────────┴───────────────┘\n"
      ],
      "text/html": [
       "<pre style=\"white-space:pre;overflow-x:auto;line-height:normal;font-family:Menlo,'DejaVu Sans Mono',consolas,'Courier New',monospace\">┏━━━━━━━━━━━━━━━━━━━━━━━━━━━━━━━━━┳━━━━━━━━━━━━━━━━━━━━━━━━┳━━━━━━━━━━━━━━━┓\n",
       "┃<span style=\"font-weight: bold\"> Layer (type)                    </span>┃<span style=\"font-weight: bold\"> Output Shape           </span>┃<span style=\"font-weight: bold\">       Param # </span>┃\n",
       "┡━━━━━━━━━━━━━━━━━━━━━━━━━━━━━━━━━╇━━━━━━━━━━━━━━━━━━━━━━━━╇━━━━━━━━━━━━━━━┩\n",
       "│ conv2d_10 (<span style=\"color: #0087ff; text-decoration-color: #0087ff\">Conv2D</span>)              │ (<span style=\"color: #00d7ff; text-decoration-color: #00d7ff\">None</span>, <span style=\"color: #00af00; text-decoration-color: #00af00\">26</span>, <span style=\"color: #00af00; text-decoration-color: #00af00\">26</span>, <span style=\"color: #00af00; text-decoration-color: #00af00\">32</span>)     │           <span style=\"color: #00af00; text-decoration-color: #00af00\">320</span> │\n",
       "├─────────────────────────────────┼────────────────────────┼───────────────┤\n",
       "│ max_pooling2d_4 (<span style=\"color: #0087ff; text-decoration-color: #0087ff\">MaxPooling2D</span>)  │ (<span style=\"color: #00d7ff; text-decoration-color: #00d7ff\">None</span>, <span style=\"color: #00af00; text-decoration-color: #00af00\">13</span>, <span style=\"color: #00af00; text-decoration-color: #00af00\">13</span>, <span style=\"color: #00af00; text-decoration-color: #00af00\">32</span>)     │             <span style=\"color: #00af00; text-decoration-color: #00af00\">0</span> │\n",
       "├─────────────────────────────────┼────────────────────────┼───────────────┤\n",
       "│ conv2d_11 (<span style=\"color: #0087ff; text-decoration-color: #0087ff\">Conv2D</span>)              │ (<span style=\"color: #00d7ff; text-decoration-color: #00d7ff\">None</span>, <span style=\"color: #00af00; text-decoration-color: #00af00\">11</span>, <span style=\"color: #00af00; text-decoration-color: #00af00\">11</span>, <span style=\"color: #00af00; text-decoration-color: #00af00\">64</span>)     │        <span style=\"color: #00af00; text-decoration-color: #00af00\">18,496</span> │\n",
       "├─────────────────────────────────┼────────────────────────┼───────────────┤\n",
       "│ max_pooling2d_5 (<span style=\"color: #0087ff; text-decoration-color: #0087ff\">MaxPooling2D</span>)  │ (<span style=\"color: #00d7ff; text-decoration-color: #00d7ff\">None</span>, <span style=\"color: #00af00; text-decoration-color: #00af00\">5</span>, <span style=\"color: #00af00; text-decoration-color: #00af00\">5</span>, <span style=\"color: #00af00; text-decoration-color: #00af00\">64</span>)       │             <span style=\"color: #00af00; text-decoration-color: #00af00\">0</span> │\n",
       "├─────────────────────────────────┼────────────────────────┼───────────────┤\n",
       "│ flatten_5 (<span style=\"color: #0087ff; text-decoration-color: #0087ff\">Flatten</span>)             │ (<span style=\"color: #00d7ff; text-decoration-color: #00d7ff\">None</span>, <span style=\"color: #00af00; text-decoration-color: #00af00\">1600</span>)           │             <span style=\"color: #00af00; text-decoration-color: #00af00\">0</span> │\n",
       "├─────────────────────────────────┼────────────────────────┼───────────────┤\n",
       "│ dense_13 (<span style=\"color: #0087ff; text-decoration-color: #0087ff\">Dense</span>)                │ (<span style=\"color: #00d7ff; text-decoration-color: #00d7ff\">None</span>, <span style=\"color: #00af00; text-decoration-color: #00af00\">128</span>)            │       <span style=\"color: #00af00; text-decoration-color: #00af00\">204,928</span> │\n",
       "├─────────────────────────────────┼────────────────────────┼───────────────┤\n",
       "│ dense_14 (<span style=\"color: #0087ff; text-decoration-color: #0087ff\">Dense</span>)                │ (<span style=\"color: #00d7ff; text-decoration-color: #00d7ff\">None</span>, <span style=\"color: #00af00; text-decoration-color: #00af00\">10</span>)             │         <span style=\"color: #00af00; text-decoration-color: #00af00\">1,290</span> │\n",
       "└─────────────────────────────────┴────────────────────────┴───────────────┘\n",
       "</pre>\n"
      ]
     },
     "metadata": {},
     "output_type": "display_data"
    },
    {
     "data": {
      "text/plain": [
       "\u001B[1m Total params: \u001B[0m\u001B[38;5;34m225,034\u001B[0m (879.04 KB)\n"
      ],
      "text/html": [
       "<pre style=\"white-space:pre;overflow-x:auto;line-height:normal;font-family:Menlo,'DejaVu Sans Mono',consolas,'Courier New',monospace\"><span style=\"font-weight: bold\"> Total params: </span><span style=\"color: #00af00; text-decoration-color: #00af00\">225,034</span> (879.04 KB)\n",
       "</pre>\n"
      ]
     },
     "metadata": {},
     "output_type": "display_data"
    },
    {
     "data": {
      "text/plain": [
       "\u001B[1m Trainable params: \u001B[0m\u001B[38;5;34m225,034\u001B[0m (879.04 KB)\n"
      ],
      "text/html": [
       "<pre style=\"white-space:pre;overflow-x:auto;line-height:normal;font-family:Menlo,'DejaVu Sans Mono',consolas,'Courier New',monospace\"><span style=\"font-weight: bold\"> Trainable params: </span><span style=\"color: #00af00; text-decoration-color: #00af00\">225,034</span> (879.04 KB)\n",
       "</pre>\n"
      ]
     },
     "metadata": {},
     "output_type": "display_data"
    },
    {
     "data": {
      "text/plain": [
       "\u001B[1m Non-trainable params: \u001B[0m\u001B[38;5;34m0\u001B[0m (0.00 B)\n"
      ],
      "text/html": [
       "<pre style=\"white-space:pre;overflow-x:auto;line-height:normal;font-family:Menlo,'DejaVu Sans Mono',consolas,'Courier New',monospace\"><span style=\"font-weight: bold\"> Non-trainable params: </span><span style=\"color: #00af00; text-decoration-color: #00af00\">0</span> (0.00 B)\n",
       "</pre>\n"
      ]
     },
     "metadata": {},
     "output_type": "display_data"
    }
   ],
   "execution_count": 34
  },
  {
   "metadata": {},
   "cell_type": "markdown",
   "source": "Training the model",
   "id": "6eecc0975dcd02b"
  },
  {
   "metadata": {
    "ExecuteTime": {
     "end_time": "2024-12-16T13:50:03.293427Z",
     "start_time": "2024-12-16T13:44:20.059865Z"
    }
   },
   "cell_type": "code",
   "source": [
    "# Training the model\n",
    "history = model.fit(train_dataset,validation_data=test_dataset,epochs=10)\n"
   ],
   "id": "45429927aeeb4c11",
   "outputs": [
    {
     "name": "stdout",
     "output_type": "stream",
     "text": [
      "Epoch 1/10\n",
      "\u001B[1m1875/1875\u001B[0m \u001B[32m━━━━━━━━━━━━━━━━━━━━\u001B[0m\u001B[37m\u001B[0m \u001B[1m45s\u001B[0m 21ms/step - accuracy: 0.9144 - loss: 0.2900 - val_accuracy: 0.9784 - val_loss: 0.0658\n",
      "Epoch 2/10\n",
      "\u001B[1m1875/1875\u001B[0m \u001B[32m━━━━━━━━━━━━━━━━━━━━\u001B[0m\u001B[37m\u001B[0m \u001B[1m39s\u001B[0m 21ms/step - accuracy: 0.9847 - loss: 0.0498 - val_accuracy: 0.9874 - val_loss: 0.0393\n",
      "Epoch 3/10\n",
      "\u001B[1m1875/1875\u001B[0m \u001B[32m━━━━━━━━━━━━━━━━━━━━\u001B[0m\u001B[37m\u001B[0m \u001B[1m34s\u001B[0m 18ms/step - accuracy: 0.9909 - loss: 0.0309 - val_accuracy: 0.9881 - val_loss: 0.0388\n",
      "Epoch 4/10\n",
      "\u001B[1m1875/1875\u001B[0m \u001B[32m━━━━━━━━━━━━━━━━━━━━\u001B[0m\u001B[37m\u001B[0m \u001B[1m32s\u001B[0m 17ms/step - accuracy: 0.9933 - loss: 0.0218 - val_accuracy: 0.9894 - val_loss: 0.0309\n",
      "Epoch 5/10\n",
      "\u001B[1m1875/1875\u001B[0m \u001B[32m━━━━━━━━━━━━━━━━━━━━\u001B[0m\u001B[37m\u001B[0m \u001B[1m32s\u001B[0m 17ms/step - accuracy: 0.9956 - loss: 0.0138 - val_accuracy: 0.9885 - val_loss: 0.0400\n",
      "Epoch 6/10\n",
      "\u001B[1m1875/1875\u001B[0m \u001B[32m━━━━━━━━━━━━━━━━━━━━\u001B[0m\u001B[37m\u001B[0m \u001B[1m32s\u001B[0m 17ms/step - accuracy: 0.9962 - loss: 0.0119 - val_accuracy: 0.9901 - val_loss: 0.0364\n",
      "Epoch 7/10\n",
      "\u001B[1m1875/1875\u001B[0m \u001B[32m━━━━━━━━━━━━━━━━━━━━\u001B[0m\u001B[37m\u001B[0m \u001B[1m32s\u001B[0m 17ms/step - accuracy: 0.9969 - loss: 0.0082 - val_accuracy: 0.9910 - val_loss: 0.0332\n",
      "Epoch 8/10\n",
      "\u001B[1m1875/1875\u001B[0m \u001B[32m━━━━━━━━━━━━━━━━━━━━\u001B[0m\u001B[37m\u001B[0m \u001B[1m30s\u001B[0m 16ms/step - accuracy: 0.9972 - loss: 0.0078 - val_accuracy: 0.9892 - val_loss: 0.0396\n",
      "Epoch 9/10\n",
      "\u001B[1m1875/1875\u001B[0m \u001B[32m━━━━━━━━━━━━━━━━━━━━\u001B[0m\u001B[37m\u001B[0m \u001B[1m34s\u001B[0m 18ms/step - accuracy: 0.9977 - loss: 0.0072 - val_accuracy: 0.9880 - val_loss: 0.0430\n",
      "Epoch 10/10\n",
      "\u001B[1m1875/1875\u001B[0m \u001B[32m━━━━━━━━━━━━━━━━━━━━\u001B[0m\u001B[37m\u001B[0m \u001B[1m34s\u001B[0m 18ms/step - accuracy: 0.9981 - loss: 0.0055 - val_accuracy: 0.9911 - val_loss: 0.0371\n"
     ]
    }
   ],
   "execution_count": 35
  },
  {
   "metadata": {},
   "cell_type": "markdown",
   "source": "Evaluating the Model",
   "id": "71a6ada944c9af47"
  },
  {
   "metadata": {
    "ExecuteTime": {
     "end_time": "2024-12-16T13:50:05.386502Z",
     "start_time": "2024-12-16T13:50:03.409832Z"
    }
   },
   "cell_type": "code",
   "source": [
    "# Evaluating on the test dataset\n",
    "test_loss, test_accuracy = model.evaluate(test_dataset)\n",
    "print(f\"Test Loss: {test_loss}\")\n",
    "print(f\"Test Accuracy: {test_accuracy}\")\n"
   ],
   "id": "f15f0b641dde6ba3",
   "outputs": [
    {
     "name": "stdout",
     "output_type": "stream",
     "text": [
      "\u001B[1m313/313\u001B[0m \u001B[32m━━━━━━━━━━━━━━━━━━━━\u001B[0m\u001B[37m\u001B[0m \u001B[1m2s\u001B[0m 6ms/step - accuracy: 0.9881 - loss: 0.0504\n",
      "Test Loss: 0.03709143027663231\n",
      "Test Accuracy: 0.991100013256073\n"
     ]
    }
   ],
   "execution_count": 36
  },
  {
   "metadata": {},
   "cell_type": "markdown",
   "source": "Visualizing training results",
   "id": "8dcc7bd7174e86d7"
  },
  {
   "metadata": {
    "ExecuteTime": {
     "end_time": "2024-12-16T13:50:06.188570Z",
     "start_time": "2024-12-16T13:50:05.395504Z"
    }
   },
   "cell_type": "code",
   "source": [
    "import matplotlib.pyplot as plt\n",
    "\n",
    "# Plot training & validation accuracy\n",
    "plt.figure(figsize=(12, 4))\n",
    "\n",
    "# Accuracy\n",
    "plt.subplot(1, 2, 1)\n",
    "plt.plot(history.history['accuracy'], label='Training Accuracy')\n",
    "plt.plot(history.history['val_accuracy'], label='Validation Accuracy')\n",
    "plt.title('Accuracy over Epochs')\n",
    "plt.xlabel('Epoch')\n",
    "plt.ylabel('Accuracy')\n",
    "plt.legend()\n",
    "\n",
    "# Loss\n",
    "plt.subplot(1, 2, 2)\n",
    "plt.plot(history.history['loss'], label='Training Loss')\n",
    "plt.plot(history.history['val_loss'], label='Validation Loss')\n",
    "plt.title('Loss over Epochs')\n",
    "plt.xlabel('Epoch')\n",
    "plt.ylabel('Loss')\n",
    "plt.legend()\n",
    "\n",
    "plt.show()\n"
   ],
   "id": "83a99d1444cc5a59",
   "outputs": [
    {
     "data": {
      "text/plain": [
       "<Figure size 1200x400 with 2 Axes>"
      ],
      "image/png": "[encoded data removed]"
     },
     "metadata": {},
     "output_type": "display_data"
    }
   ],
   "execution_count": 37
  },
  {
   "metadata": {},
   "cell_type": "markdown",
   "source": "Making Predictions",
   "id": "f5b82bfa3165ebc5"
  },
  {
   "metadata": {
    "ExecuteTime": {
     "end_time": "2024-12-16T13:50:09.017545Z",
     "start_time": "2024-12-16T13:50:06.317946Z"
    }
   },
   "cell_type": "code",
   "source": [
    "# Predicting on test data\n",
    "predictions = model.predict(X_test)\n",
    "\n",
    "# Converting predictions to class labels\n",
    "predicted_classes = np.argmax(predictions, axis=1)\n",
    "true_classes = np.argmax(y_test, axis=1)\n",
    "\n",
    "# Calculating accuracy manually\n",
    "manual_accuracy = np.mean(predicted_classes == true_classes)\n",
    "print(f\"Manual Test Accuracy: {manual_accuracy}\")\n"
   ],
   "id": "a97062acb0cec3f5",
   "outputs": [
    {
     "name": "stdout",
     "output_type": "stream",
     "text": [
      "\u001B[1m313/313\u001B[0m \u001B[32m━━━━━━━━━━━━━━━━━━━━\u001B[0m\u001B[37m\u001B[0m \u001B[1m2s\u001B[0m 7ms/step\n",
      "Manual Test Accuracy: 0.9911\n"
     ]
    }
   ],
   "execution_count": 38
  },
  {
   "metadata": {},
   "cell_type": "markdown",
   "source": "Accuracy Calculation after Training",
   "id": "185d9cb0e8ac01fa"
  },
  {
   "metadata": {
    "ExecuteTime": {
     "end_time": "2024-12-16T13:50:14.453925Z",
     "start_time": "2024-12-16T13:50:09.028543Z"
    }
   },
   "cell_type": "code",
   "source": [
    "# Testing dataset accuracy\n",
    "correct_predictions = 0\n",
    "total_samples = 0\n",
    "\n",
    "for x_batch, y_batch in test_dataset:\n",
    "    logits = model(x_batch, training=False)\n",
    "    predicted_classes = tf.argmax(logits, axis=1)\n",
    "    true_classes = tf.argmax(y_batch, axis=1)\n",
    "\n",
    "    correct_predictions += tf.reduce_sum(tf.cast(predicted_classes == true_classes, tf.int32)).numpy()\n",
    "    total_samples += x_batch.shape[0]\n",
    "\n",
    "test_accuracy = correct_predictions / total_samples\n",
    "print(f\"Final Test Accuracy: {test_accuracy:.4f}\")\n",
    "\n"
   ],
   "id": "974c0f32cd2b991e",
   "outputs": [
    {
     "name": "stdout",
     "output_type": "stream",
     "text": [
      "Final Test Accuracy: 0.9911\n"
     ]
    }
   ],
   "execution_count": 39
  },
  {
   "metadata": {},
   "cell_type": "markdown",
   "source": "Problem 8 - (Advance assignment) LeNet",
   "id": "562af201d6f6035a"
  },
  {
   "metadata": {
    "ExecuteTime": {
     "end_time": "2024-12-16T13:53:58.815788Z",
     "start_time": "2024-12-16T13:50:14.566838Z"
    }
   },
   "cell_type": "code",
   "source": [
    "import tensorflow as tf\n",
    "from tensorflow.keras import layers, models, Input\n",
    "from tensorflow.keras.datasets import mnist\n",
    "from tensorflow.keras.utils import to_categorical\n",
    "\n",
    "# Loading MNIST data\n",
    "(x_train, y_train), (x_test, y_test) = mnist.load_data()\n",
    "\n",
    "# Reshaping the data to match LeNet's input shape (28x28x1)\n",
    "x_train = x_train.reshape(-1, 28, 28, 1)\n",
    "x_test = x_test.reshape(-1, 28, 28, 1)\n",
    "\n",
    "# Normalizing the images to values between 0 and 1\n",
    "x_train = x_train.astype('float32') / 255\n",
    "x_test = x_test.astype('float32') / 255\n",
    "\n",
    "# One-hot encode the labels\n",
    "y_train = to_categorical(y_train, 10)\n",
    "y_test = to_categorical(y_test, 10)\n",
    "\n",
    "# LeNet model\n",
    "def lenet():\n",
    "    model = models.Sequential([\n",
    "        Input(shape=(28, 28, 1)),  # Defines the input shape explicitly\n",
    "        layers.Conv2D(6, (5, 5), activation='tanh', padding='same'),\n",
    "        layers.AveragePooling2D((2, 2), strides=2),\n",
    "        layers.Conv2D(16, (5, 5), activation='tanh'),\n",
    "        layers.AveragePooling2D((2, 2), strides=2),\n",
    "        layers.Flatten(),\n",
    "        layers.Dense(120, activation='tanh'),\n",
    "        layers.Dense(84, activation='tanh'),\n",
    "        layers.Dense(10, activation='softmax')  # Output layer for 10 classes\n",
    "    ])\n",
    "    return model\n",
    "\n",
    "# Instantiating the model\n",
    "model = lenet()\n",
    "\n",
    "# Compiling the model\n",
    "model.compile(optimizer='adam',\n",
    "              loss='categorical_crossentropy',\n",
    "              metrics=['accuracy'])\n",
    "\n",
    "# Displaying model architecture\n",
    "model.summary()\n",
    "\n",
    "# Training the model\n",
    "history = model.fit(x_train, y_train, epochs=10, batch_size=128, validation_data=(x_test, y_test))\n",
    "\n",
    "# Evaluating the model on the test data\n",
    "test_loss, test_acc = model.evaluate(x_test, y_test, verbose=2)\n",
    "print(f'Test accuracy: {test_acc}')\n"
   ],
   "id": "31bc302d76f39cfa",
   "outputs": [
    {
     "data": {
      "text/plain": [
       "\u001B[1mModel: \"sequential_6\"\u001B[0m\n"
      ],
      "text/html": [
       "<pre style=\"white-space:pre;overflow-x:auto;line-height:normal;font-family:Menlo,'DejaVu Sans Mono',consolas,'Courier New',monospace\"><span style=\"font-weight: bold\">Model: \"sequential_6\"</span>\n",
       "</pre>\n"
      ]
     },
     "metadata": {},
     "output_type": "display_data"
    },
    {
     "data": {
      "text/plain": [
       "┏━━━━━━━━━━━━━━━━━━━━━━━━━━━━━━━━━┳━━━━━━━━━━━━━━━━━━━━━━━━┳━━━━━━━━━━━━━━━┓\n",
       "┃\u001B[1m \u001B[0m\u001B[1mLayer (type)                   \u001B[0m\u001B[1m \u001B[0m┃\u001B[1m \u001B[0m\u001B[1mOutput Shape          \u001B[0m\u001B[1m \u001B[0m┃\u001B[1m \u001B[0m\u001B[1m      Param #\u001B[0m\u001B[1m \u001B[0m┃\n",
       "┡━━━━━━━━━━━━━━━━━━━━━━━━━━━━━━━━━╇━━━━━━━━━━━━━━━━━━━━━━━━╇━━━━━━━━━━━━━━━┩\n",
       "│ conv2d_12 (\u001B[38;5;33mConv2D\u001B[0m)              │ (\u001B[38;5;45mNone\u001B[0m, \u001B[38;5;34m28\u001B[0m, \u001B[38;5;34m28\u001B[0m, \u001B[38;5;34m6\u001B[0m)      │           \u001B[38;5;34m156\u001B[0m │\n",
       "├─────────────────────────────────┼────────────────────────┼───────────────┤\n",
       "│ average_pooling2d_6             │ (\u001B[38;5;45mNone\u001B[0m, \u001B[38;5;34m14\u001B[0m, \u001B[38;5;34m14\u001B[0m, \u001B[38;5;34m6\u001B[0m)      │             \u001B[38;5;34m0\u001B[0m │\n",
       "│ (\u001B[38;5;33mAveragePooling2D\u001B[0m)              │                        │               │\n",
       "├─────────────────────────────────┼────────────────────────┼───────────────┤\n",
       "│ conv2d_13 (\u001B[38;5;33mConv2D\u001B[0m)              │ (\u001B[38;5;45mNone\u001B[0m, \u001B[38;5;34m10\u001B[0m, \u001B[38;5;34m10\u001B[0m, \u001B[38;5;34m16\u001B[0m)     │         \u001B[38;5;34m2,416\u001B[0m │\n",
       "├─────────────────────────────────┼────────────────────────┼───────────────┤\n",
       "│ average_pooling2d_7             │ (\u001B[38;5;45mNone\u001B[0m, \u001B[38;5;34m5\u001B[0m, \u001B[38;5;34m5\u001B[0m, \u001B[38;5;34m16\u001B[0m)       │             \u001B[38;5;34m0\u001B[0m │\n",
       "│ (\u001B[38;5;33mAveragePooling2D\u001B[0m)              │                        │               │\n",
       "├─────────────────────────────────┼────────────────────────┼───────────────┤\n",
       "│ flatten_6 (\u001B[38;5;33mFlatten\u001B[0m)             │ (\u001B[38;5;45mNone\u001B[0m, \u001B[38;5;34m400\u001B[0m)            │             \u001B[38;5;34m0\u001B[0m │\n",
       "├─────────────────────────────────┼────────────────────────┼───────────────┤\n",
       "│ dense_15 (\u001B[38;5;33mDense\u001B[0m)                │ (\u001B[38;5;45mNone\u001B[0m, \u001B[38;5;34m120\u001B[0m)            │        \u001B[38;5;34m48,120\u001B[0m │\n",
       "├─────────────────────────────────┼────────────────────────┼───────────────┤\n",
       "│ dense_16 (\u001B[38;5;33mDense\u001B[0m)                │ (\u001B[38;5;45mNone\u001B[0m, \u001B[38;5;34m84\u001B[0m)             │        \u001B[38;5;34m10,164\u001B[0m │\n",
       "├─────────────────────────────────┼────────────────────────┼───────────────┤\n",
       "│ dense_17 (\u001B[38;5;33mDense\u001B[0m)                │ (\u001B[38;5;45mNone\u001B[0m, \u001B[38;5;34m10\u001B[0m)             │           \u001B[38;5;34m850\u001B[0m │\n",
       "└─────────────────────────────────┴────────────────────────┴───────────────┘\n"
      ],
      "text/html": [
       "<pre style=\"white-space:pre;overflow-x:auto;line-height:normal;font-family:Menlo,'DejaVu Sans Mono',consolas,'Courier New',monospace\">┏━━━━━━━━━━━━━━━━━━━━━━━━━━━━━━━━━┳━━━━━━━━━━━━━━━━━━━━━━━━┳━━━━━━━━━━━━━━━┓\n",
       "┃<span style=\"font-weight: bold\"> Layer (type)                    </span>┃<span style=\"font-weight: bold\"> Output Shape           </span>┃<span style=\"font-weight: bold\">       Param # </span>┃\n",
       "┡━━━━━━━━━━━━━━━━━━━━━━━━━━━━━━━━━╇━━━━━━━━━━━━━━━━━━━━━━━━╇━━━━━━━━━━━━━━━┩\n",
       "│ conv2d_12 (<span style=\"color: #0087ff; text-decoration-color: #0087ff\">Conv2D</span>)              │ (<span style=\"color: #00d7ff; text-decoration-color: #00d7ff\">None</span>, <span style=\"color: #00af00; text-decoration-color: #00af00\">28</span>, <span style=\"color: #00af00; text-decoration-color: #00af00\">28</span>, <span style=\"color: #00af00; text-decoration-color: #00af00\">6</span>)      │           <span style=\"color: #00af00; text-decoration-color: #00af00\">156</span> │\n",
       "├─────────────────────────────────┼────────────────────────┼───────────────┤\n",
       "│ average_pooling2d_6             │ (<span style=\"color: #00d7ff; text-decoration-color: #00d7ff\">None</span>, <span style=\"color: #00af00; text-decoration-color: #00af00\">14</span>, <span style=\"color: #00af00; text-decoration-color: #00af00\">14</span>, <span style=\"color: #00af00; text-decoration-color: #00af00\">6</span>)      │             <span style=\"color: #00af00; text-decoration-color: #00af00\">0</span> │\n",
       "│ (<span style=\"color: #0087ff; text-decoration-color: #0087ff\">AveragePooling2D</span>)              │                        │               │\n",
       "├─────────────────────────────────┼────────────────────────┼───────────────┤\n",
       "│ conv2d_13 (<span style=\"color: #0087ff; text-decoration-color: #0087ff\">Conv2D</span>)              │ (<span style=\"color: #00d7ff; text-decoration-color: #00d7ff\">None</span>, <span style=\"color: #00af00; text-decoration-color: #00af00\">10</span>, <span style=\"color: #00af00; text-decoration-color: #00af00\">10</span>, <span style=\"color: #00af00; text-decoration-color: #00af00\">16</span>)     │         <span style=\"color: #00af00; text-decoration-color: #00af00\">2,416</span> │\n",
       "├─────────────────────────────────┼────────────────────────┼───────────────┤\n",
       "│ average_pooling2d_7             │ (<span style=\"color: #00d7ff; text-decoration-color: #00d7ff\">None</span>, <span style=\"color: #00af00; text-decoration-color: #00af00\">5</span>, <span style=\"color: #00af00; text-decoration-color: #00af00\">5</span>, <span style=\"color: #00af00; text-decoration-color: #00af00\">16</span>)       │             <span style=\"color: #00af00; text-decoration-color: #00af00\">0</span> │\n",
       "│ (<span style=\"color: #0087ff; text-decoration-color: #0087ff\">AveragePooling2D</span>)              │                        │               │\n",
       "├─────────────────────────────────┼────────────────────────┼───────────────┤\n",
       "│ flatten_6 (<span style=\"color: #0087ff; text-decoration-color: #0087ff\">Flatten</span>)             │ (<span style=\"color: #00d7ff; text-decoration-color: #00d7ff\">None</span>, <span style=\"color: #00af00; text-decoration-color: #00af00\">400</span>)            │             <span style=\"color: #00af00; text-decoration-color: #00af00\">0</span> │\n",
       "├─────────────────────────────────┼────────────────────────┼───────────────┤\n",
       "│ dense_15 (<span style=\"color: #0087ff; text-decoration-color: #0087ff\">Dense</span>)                │ (<span style=\"color: #00d7ff; text-decoration-color: #00d7ff\">None</span>, <span style=\"color: #00af00; text-decoration-color: #00af00\">120</span>)            │        <span style=\"color: #00af00; text-decoration-color: #00af00\">48,120</span> │\n",
       "├─────────────────────────────────┼────────────────────────┼───────────────┤\n",
       "│ dense_16 (<span style=\"color: #0087ff; text-decoration-color: #0087ff\">Dense</span>)                │ (<span style=\"color: #00d7ff; text-decoration-color: #00d7ff\">None</span>, <span style=\"color: #00af00; text-decoration-color: #00af00\">84</span>)             │        <span style=\"color: #00af00; text-decoration-color: #00af00\">10,164</span> │\n",
       "├─────────────────────────────────┼────────────────────────┼───────────────┤\n",
       "│ dense_17 (<span style=\"color: #0087ff; text-decoration-color: #0087ff\">Dense</span>)                │ (<span style=\"color: #00d7ff; text-decoration-color: #00d7ff\">None</span>, <span style=\"color: #00af00; text-decoration-color: #00af00\">10</span>)             │           <span style=\"color: #00af00; text-decoration-color: #00af00\">850</span> │\n",
       "└─────────────────────────────────┴────────────────────────┴───────────────┘\n",
       "</pre>\n"
      ]
     },
     "metadata": {},
     "output_type": "display_data"
    },
    {
     "data": {
      "text/plain": [
       "\u001B[1m Total params: \u001B[0m\u001B[38;5;34m61,706\u001B[0m (241.04 KB)\n"
      ],
      "text/html": [
       "<pre style=\"white-space:pre;overflow-x:auto;line-height:normal;font-family:Menlo,'DejaVu Sans Mono',consolas,'Courier New',monospace\"><span style=\"font-weight: bold\"> Total params: </span><span style=\"color: #00af00; text-decoration-color: #00af00\">61,706</span> (241.04 KB)\n",
       "</pre>\n"
      ]
     },
     "metadata": {},
     "output_type": "display_data"
    },
    {
     "data": {
      "text/plain": [
       "\u001B[1m Trainable params: \u001B[0m\u001B[38;5;34m61,706\u001B[0m (241.04 KB)\n"
      ],
      "text/html": [
       "<pre style=\"white-space:pre;overflow-x:auto;line-height:normal;font-family:Menlo,'DejaVu Sans Mono',consolas,'Courier New',monospace\"><span style=\"font-weight: bold\"> Trainable params: </span><span style=\"color: #00af00; text-decoration-color: #00af00\">61,706</span> (241.04 KB)\n",
       "</pre>\n"
      ]
     },
     "metadata": {},
     "output_type": "display_data"
    },
    {
     "data": {
      "text/plain": [
       "\u001B[1m Non-trainable params: \u001B[0m\u001B[38;5;34m0\u001B[0m (0.00 B)\n"
      ],
      "text/html": [
       "<pre style=\"white-space:pre;overflow-x:auto;line-height:normal;font-family:Menlo,'DejaVu Sans Mono',consolas,'Courier New',monospace\"><span style=\"font-weight: bold\"> Non-trainable params: </span><span style=\"color: #00af00; text-decoration-color: #00af00\">0</span> (0.00 B)\n",
       "</pre>\n"
      ]
     },
     "metadata": {},
     "output_type": "display_data"
    },
    {
     "name": "stdout",
     "output_type": "stream",
     "text": [
      "Epoch 1/10\n",
      "\u001B[1m469/469\u001B[0m \u001B[32m━━━━━━━━━━━━━━━━━━━━\u001B[0m\u001B[37m\u001B[0m \u001B[1m16s\u001B[0m 28ms/step - accuracy: 0.8256 - loss: 0.6086 - val_accuracy: 0.9566 - val_loss: 0.1445\n",
      "Epoch 2/10\n",
      "\u001B[1m469/469\u001B[0m \u001B[32m━━━━━━━━━━━━━━━━━━━━\u001B[0m\u001B[37m\u001B[0m \u001B[1m31s\u001B[0m 51ms/step - accuracy: 0.9575 - loss: 0.1380 - val_accuracy: 0.9706 - val_loss: 0.0959\n",
      "Epoch 3/10\n",
      "\u001B[1m469/469\u001B[0m \u001B[32m━━━━━━━━━━━━━━━━━━━━\u001B[0m\u001B[37m\u001B[0m \u001B[1m25s\u001B[0m 52ms/step - accuracy: 0.9747 - loss: 0.0851 - val_accuracy: 0.9772 - val_loss: 0.0738\n",
      "Epoch 4/10\n",
      "\u001B[1m469/469\u001B[0m \u001B[32m━━━━━━━━━━━━━━━━━━━━\u001B[0m\u001B[37m\u001B[0m \u001B[1m34s\u001B[0m 36ms/step - accuracy: 0.9813 - loss: 0.0606 - val_accuracy: 0.9801 - val_loss: 0.0641\n",
      "Epoch 5/10\n",
      "\u001B[1m469/469\u001B[0m \u001B[32m━━━━━━━━━━━━━━━━━━━━\u001B[0m\u001B[37m\u001B[0m \u001B[1m14s\u001B[0m 30ms/step - accuracy: 0.9863 - loss: 0.0464 - val_accuracy: 0.9818 - val_loss: 0.0588\n",
      "Epoch 6/10\n",
      "\u001B[1m469/469\u001B[0m \u001B[32m━━━━━━━━━━━━━━━━━━━━\u001B[0m\u001B[37m\u001B[0m \u001B[1m11s\u001B[0m 23ms/step - accuracy: 0.9880 - loss: 0.0393 - val_accuracy: 0.9840 - val_loss: 0.0509\n",
      "Epoch 7/10\n",
      "\u001B[1m469/469\u001B[0m \u001B[32m━━━━━━━━━━━━━━━━━━━━\u001B[0m\u001B[37m\u001B[0m \u001B[1m14s\u001B[0m 29ms/step - accuracy: 0.9910 - loss: 0.0298 - val_accuracy: 0.9853 - val_loss: 0.0478\n",
      "Epoch 8/10\n",
      "\u001B[1m469/469\u001B[0m \u001B[32m━━━━━━━━━━━━━━━━━━━━\u001B[0m\u001B[37m\u001B[0m \u001B[1m20s\u001B[0m 43ms/step - accuracy: 0.9925 - loss: 0.0245 - val_accuracy: 0.9832 - val_loss: 0.0513\n",
      "Epoch 9/10\n",
      "\u001B[1m469/469\u001B[0m \u001B[32m━━━━━━━━━━━━━━━━━━━━\u001B[0m\u001B[37m\u001B[0m \u001B[1m29s\u001B[0m 61ms/step - accuracy: 0.9945 - loss: 0.0193 - val_accuracy: 0.9850 - val_loss: 0.0475\n",
      "Epoch 10/10\n",
      "\u001B[1m469/469\u001B[0m \u001B[32m━━━━━━━━━━━━━━━━━━━━\u001B[0m\u001B[37m\u001B[0m \u001B[1m27s\u001B[0m 30ms/step - accuracy: 0.9945 - loss: 0.0175 - val_accuracy: 0.9816 - val_loss: 0.0583\n",
      "313/313 - 1s - 4ms/step - accuracy: 0.9816 - loss: 0.0583\n",
      "Test accuracy: 0.9815999865531921\n"
     ]
    }
   ],
   "execution_count": 40
  },
  {
   "metadata": {},
   "cell_type": "markdown",
   "source": [
    "Problem 9 - (Advance assignment) Survey of famous image recognition models\n",
    "\n",
    "AlexNet (2012) and VGG16 (2014) are two influential convolutional neural network (CNN) architectures in deep learning, particularly in image classification.\n",
    "\n",
    "1. AlexNet: Created by Alex Krizhevsky and his team, AlexNet won the 2012 ImageNet competition by significantly outperforming its competitors. The architecture consists of 5 convolutional layers, followed by 3 fully connected layers. It introduced key innovations such as using ReLU (Rectified Linear Unit) for nonlinearity, which helped speed up training, and leveraging GPUs for parallel processing. Additionally, it uses dropout and data augmentation to prevent overfitting. AlexNet is primarily used on datasets like CIFAR-10, and in the original research, it was trained on the ImageNet dataset.\n",
    "\n",
    "2. VGG16: Proposed by the Visual Geometry Group at Oxford, VGG16 is known for its simplicity and depth. It uses 16 weight layers (13 convolutional and 3 fully connected layers), with small receptive fields (3x3 filters) and max-pooling layers. This design choice makes it deeper than earlier models, which allows it to learn more complex features. VGG16 has become a popular model for transfer learning because of its relatively simple structure and good performance on image recognition tasks. The default input size for VGG16 is 224x224 pixels.\n",
    "\n",
    "Both architectures are available in Keras' applications module, which provides easy-to-use pretrained models for tasks like image classification and transfer learning. You can specify parameters such as whether to include the fully connected layers (`include_top`), the input shape, and whether to use ImageNet weights.\n"
   ],
   "id": "d541bba3b61ad0b8"
  },
  {
   "metadata": {},
   "cell_type": "markdown",
   "source": "Problem 10 - Calculation of output size and number of parameters",
   "id": "a64e1808a3cb8f39"
  },
  {
   "metadata": {
    "ExecuteTime": {
     "end_time": "2024-12-16T13:53:59.111542Z",
     "start_time": "2024-12-16T13:53:59.073297Z"
    }
   },
   "cell_type": "code",
   "source": [
    "def conv_layer_params(input_size, filter_size, num_input_channels, num_output_channels, stride=1, padding=0):\n",
    "    # Calculating output size\n",
    "    output_size = (input_size - filter_size + 2 * padding) // stride + 1\n",
    "    # Calculating number of parameters (weights + bias)\n",
    "    params = (filter_size * filter_size * num_input_channels) * num_output_channels + num_output_channels\n",
    "    return output_size, params\n",
    "\n",
    "# Example 1\n",
    "input_size_1 = 144\n",
    "filter_size_1 = 3\n",
    "num_input_channels_1 = 3\n",
    "num_output_channels_1 = 6\n",
    "stride_1 = 1\n",
    "output_size_1, params_1 = conv_layer_params(input_size_1, filter_size_1, num_input_channels_1, num_output_channels_1, stride_1)\n",
    "print(f\"Example 1: Output Size: {output_size_1} x {output_size_1} x {num_output_channels_1}, Params: {params_1}\")\n",
    "\n",
    "# Example 2\n",
    "input_size_2 = 60\n",
    "filter_size_2 = 3\n",
    "num_input_channels_2 = 24\n",
    "num_output_channels_2 = 48\n",
    "stride_2 = 1\n",
    "output_size_2, params_2 = conv_layer_params(input_size_2, filter_size_2, num_input_channels_2, num_output_channels_2, stride_2)\n",
    "print(f\"Example 2: Output Size: {output_size_2} x {output_size_2} x {num_output_channels_2}, Params: {params_2}\")\n",
    "\n",
    "# Example 3\n",
    "input_size_3 = 20\n",
    "filter_size_3 = 3\n",
    "num_input_channels_3 = 10\n",
    "num_output_channels_3 = 20\n",
    "stride_3 = 2\n",
    "output_size_3, params_3 = conv_layer_params(input_size_3, filter_size_3, num_input_channels_3, num_output_channels_3, stride_3)\n",
    "print(f\"Example 3: Output Size: {output_size_3} x {output_size_3} x {num_output_channels_3}, Params: {params_3}\")\n"
   ],
   "id": "6f726cb5073ae735",
   "outputs": [
    {
     "name": "stdout",
     "output_type": "stream",
     "text": [
      "Example 1: Output Size: 142 x 142 x 6, Params: 168\n",
      "Example 2: Output Size: 58 x 58 x 48, Params: 10416\n",
      "Example 3: Output Size: 9 x 9 x 20, Params: 1820\n"
     ]
    }
   ],
   "execution_count": 41
  },
  {
   "metadata": {},
   "cell_type": "markdown",
   "source": "Problem 11 - (Advance assignment) Survey on filter size",
   "id": "85de3defdd44a46c"
  },
  {
   "metadata": {},
   "cell_type": "markdown",
   "source": [
    "Why 3×3 Filters are Commonly Used Instead of Larger Ones like 7×7\n",
    "\n",
    "3×3 filters are widely used in convolutional neural networks (CNNs) primarily due to their effectiveness in capturing spatial hierarchies with fewer parameters. By using smaller filters (such as 3×3), the network can stack multiple convolutional layers, each with its own small receptive field, to effectively cover a larger area of the image. For example, two consecutive 3×3 filters give a combined receptive field of 5×5, while three consecutive 3×3 filters cover a 7×7 area. This allows the network to build more complex patterns while retaining fewer parameters compared to using a single large filter like 7×7. Additionally, stacking multiple smaller filters introduces more non-linearities (such as activation functions) between layers, which improves the network's ability to learn complex representations.\n",
    "\n",
    "The Effect of a 1x1 Filter\n",
    "\n",
    "A 1×1 filter in convolutional layers operates in a manner where it has no spatial dimension in either the height or width direction. Instead, it acts as a channel-wise transformation. The 1×1 filter is used to mix the channels of the input feature map, reducing or expanding the depth of the feature map without affecting the spatial dimensions. This is particularly useful in architectures like the GoogleNet (Inception) model, where 1×1 convolutions allow for efficient dimensionality reduction or expansion while keeping the computational cost low. By applying these small filters, the model can learn to combine features across channels more efficiently, often improving the representational power of the network without the computational burden of larger filters."
   ],
   "id": "504404be8122381b"
  }
 ],
 "metadata": {
  "kernelspec": {
   "display_name": "Python 3",
   "language": "python",
   "name": "python3"
  },
  "language_info": {
   "codemirror_mode": {
    "name": "ipython",
    "version": 2
   },
   "file_extension": ".py",
   "mimetype": "text/x-python",
   "name": "python",
   "nbconvert_exporter": "python",
   "pygments_lexer": "ipython2",
   "version": "2.7.6"
  }
 },
 "nbformat": 4,
 "nbformat_minor": 5
}
