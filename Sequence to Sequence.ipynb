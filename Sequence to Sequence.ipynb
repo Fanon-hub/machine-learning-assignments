{
 "cells": [
  {
   "metadata": {},
   "cell_type": "markdown",
   "source": "Problem 1 - Executing machine translation and code reading",
   "id": "3a78968c393bb443"
  },
  {
   "metadata": {
    "ExecuteTime": {
     "end_time": "2024-12-21T21:00:10.753893Z",
     "start_time": "2024-12-21T20:59:57.069166Z"
    }
   },
   "cell_type": "code",
   "source": [
    "import numpy as np\n",
    "import keras\n",
    "import os\n",
    "from pathlib import Path\n",
    "import zipfile\n",
    "\n",
    "# Path to the downloaded zip file\n",
    "zip_file_path = r\"C:\\Users\\DELL\\Downloads\\fra-eng.zip\"\n",
    "\n",
    "# Destination directory to extract the contents\n",
    "extract_dir = Path(zip_file_path).parent / \"fra-eng-dataset\"\n",
    "\n",
    "# Ensure the destination directory exists\n",
    "os.makedirs(extract_dir, exist_ok=True)\n",
    "\n",
    "# Extract the zip file\n",
    "with zipfile.ZipFile(zip_file_path, 'r') as zip_ref:\n",
    "    zip_ref.extractall(extract_dir)\n",
    "    print(f\"Extracted files to {extract_dir}\")\n",
    "\n",
    "# Path to the extracted dataset file\n",
    "dataset_file_path = extract_dir / \"fra.txt\"\n",
    "\n",
    "# Load the dataset\n",
    "with open(dataset_file_path, \"r\", encoding=\"utf-8\") as f:\n",
    "    lines = f.read().strip().splitlines()\n",
    "\n",
    "# Display some sample lines from the dataset\n",
    "print(\"Sample lines from the dataset:\")\n",
    "for line in lines[:5]:\n",
    "    print(line.strip())\n",
    "\n",
    "# Hyperparameter settings\n",
    "batch_size = 64  # Batch size for training.\n",
    "epochs = 100  # Number of epochs to train for.\n",
    "latent_dim = 256  # Latent dimensionality of the encoding space.\n",
    "num_samples = 10000  # Number of samples to train on.\n",
    "data_path = os.path.join(extract_dir, \"fra.txt\")  # Path to the data txt file on disk.\n",
    "\n",
    "# Data loading and preprocessing\n",
    "# Vectorizing the data.\n",
    "input_texts = []\n",
    "target_texts = []\n",
    "input_characters = set()\n",
    "target_characters = set()\n",
    "for line in lines[: min(num_samples, len(lines) - 1)]:\n",
    "    # Split by tab and ignore the metadata (third part)\n",
    "    parts = line.split(\"\\t\")\n",
    "    if len(parts) >= 2:  # Make sure there are at least two parts\n",
    "        input_text, target_text = parts[0], parts[1]\n",
    "        target_text = \"\\t\" + target_text + \"\\n\"  # Add start and end tokens for the decoder\n",
    "        input_texts.append(input_text)\n",
    "        target_texts.append(target_text)\n",
    "        input_characters.update(input_text)\n",
    "        target_characters.update(target_text)\n",
    "\n",
    "\n",
    "# Character indexing\n",
    "input_characters = sorted(input_characters)\n",
    "target_characters = sorted(target_characters)\n",
    "num_encoder_tokens = len(input_characters)\n",
    "num_decoder_tokens = len(target_characters)\n",
    "max_encoder_seq_length = max([len(txt) for txt in input_texts])\n",
    "max_decoder_seq_length = max([len(txt) for txt in target_texts])\n",
    "\n",
    "# Dictionary mapping\n",
    "input_token_index = {char: i for i, char in enumerate(input_characters)}\n",
    "target_token_index = {char: i for i, char in enumerate(target_characters)}\n",
    "reverse_input_char_index = {i: char for char, i in input_token_index.items()}\n",
    "reverse_target_char_index = {i: char for char, i in target_token_index.items()}\n",
    "\n",
    "# Initializing One-Hot Encoding\n",
    "encoder_input_data = np.zeros(\n",
    "    (len(input_texts), max_encoder_seq_length, num_encoder_tokens), dtype=\"float32\"\n",
    ")\n",
    "decoder_input_data = np.zeros(\n",
    "    (len(target_texts), max_decoder_seq_length, num_decoder_tokens), dtype=\"float32\"\n",
    ")\n",
    "decoder_target_data = np.zeros(\n",
    "    (len(target_texts), max_decoder_seq_length, num_decoder_tokens), dtype=\"float32\"\n",
    ")\n",
    "\n",
    "# Populating one-hot encoded arrays\n",
    "for i, (input_text, target_text) in enumerate(zip(input_texts, target_texts)):\n",
    "    for t, char in enumerate(input_text):\n",
    "        encoder_input_data[i, t, input_token_index[char]] = 1.0\n",
    "    for t, char in enumerate(target_text):\n",
    "        decoder_input_data[i, t, target_token_index[char]] = 1.0\n",
    "        if t > 0:\n",
    "            decoder_target_data[i, t - 1, target_token_index[char]] = 1.0\n",
    "\n",
    "# Defining the encoder model\n",
    "encoder_inputs = keras.Input(shape=(None, num_encoder_tokens))\n",
    "encoder = keras.layers.LSTM(latent_dim, return_state=True)\n",
    "encoder_outputs, state_h, state_c = encoder(encoder_inputs)\n",
    "encoder_states = [state_h, state_c]\n",
    "\n",
    "# Printing the results\n",
    "print(\"Input texts:\", input_texts[:5])  # Prints the first 5 English sentences\n",
    "print(\"Target texts:\", target_texts[:5])  # Prints the first 5 French sentences\n",
    "print(\"Input characters:\", input_characters)\n",
    "print(\"Target characters:\", target_characters)\n"
   ],
   "id": "ba3615a3a22a4824",
   "outputs": [
    {
     "name": "stdout",
     "output_type": "stream",
     "text": [
      "Extracted files to C:\\Users\\DELL\\Downloads\\fra-eng-dataset\n",
      "Sample lines from the dataset:\n",
      "Go.\tVa !\tCC-BY 2.0 (France) Attribution: tatoeba.org #2877272 (CM) & #1158250 (Wittydev)\n",
      "Go.\tMarche.\tCC-BY 2.0 (France) Attribution: tatoeba.org #2877272 (CM) & #8090732 (Micsmithel)\n",
      "Go.\tEn route !\tCC-BY 2.0 (France) Attribution: tatoeba.org #2877272 (CM) & #8267435 (felix63)\n",
      "Go.\tBouge !\tCC-BY 2.0 (France) Attribution: tatoeba.org #2877272 (CM) & #9022935 (Micsmithel)\n",
      "Hi.\tSalut !\tCC-BY 2.0 (France) Attribution: tatoeba.org #538123 (CM) & #509819 (Aiji)\n",
      "Input texts: ['Go.', 'Go.', 'Go.', 'Go.', 'Hi.']\n",
      "Target texts: ['\\tVa !\\n', '\\tMarche.\\n', '\\tEn route !\\n', '\\tBouge !\\n', '\\tSalut !\\n']\n",
      "Input characters: [' ', '!', '\"', '$', '%', '&', \"'\", ',', '-', '.', '0', '1', '2', '3', '5', '7', '8', '9', ':', '?', 'A', 'B', 'C', 'D', 'E', 'F', 'G', 'H', 'I', 'J', 'K', 'L', 'M', 'N', 'O', 'P', 'Q', 'R', 'S', 'T', 'U', 'V', 'W', 'Y', 'a', 'b', 'c', 'd', 'e', 'f', 'g', 'h', 'i', 'j', 'k', 'l', 'm', 'n', 'o', 'p', 'q', 'r', 's', 't', 'u', 'v', 'w', 'x', 'y', 'z']\n",
      "Target characters: ['\\t', '\\n', ' ', '!', '%', '&', \"'\", ',', '-', '.', '0', '1', '2', '3', '5', '8', '9', ':', '?', 'A', 'B', 'C', 'D', 'E', 'F', 'G', 'H', 'I', 'J', 'K', 'L', 'M', 'N', 'O', 'P', 'Q', 'R', 'S', 'T', 'U', 'V', 'W', 'Y', 'a', 'b', 'c', 'd', 'e', 'f', 'g', 'h', 'i', 'j', 'k', 'l', 'm', 'n', 'o', 'p', 'q', 'r', 's', 't', 'u', 'v', 'w', 'x', 'y', 'z', '\\xa0', '«', '»', 'À', 'Ç', 'É', 'Ê', 'à', 'â', 'ç', 'è', 'é', 'ê', 'î', 'ï', 'ô', 'ù', 'û', 'œ', '\\u2009', '’', '\\u202f']\n"
     ]
    }
   ],
   "execution_count": 9
  },
  {
   "metadata": {},
   "cell_type": "markdown",
   "source": "Problem 2 - Running a trained model for image captioning",
   "id": "2c4bca0bf42e7def"
  },
  {
   "metadata": {
    "ExecuteTime": {
     "end_time": "2024-12-22T12:03:25.833843Z",
     "start_time": "2024-12-22T12:03:25.810356Z"
    }
   },
   "cell_type": "code",
   "source": [
    "import os\n",
    "\n",
    "# Create the directories\n",
    "os.makedirs('./models', exist_ok=True)\n",
    "os.makedirs('./data', exist_ok=True)\n"
   ],
   "id": "7c0d2cbce13c74ac",
   "outputs": [],
   "execution_count": 25
  },
  {
   "metadata": {
    "ExecuteTime": {
     "end_time": "2024-12-22T12:08:47.746685Z",
     "start_time": "2024-12-22T12:08:47.687201Z"
    }
   },
   "cell_type": "code",
   "source": [
    "import shutil\n",
    "\n",
    "# Move files to the specified directories\n",
    "shutil.move('C:/Users/DELL/ML/model/encoder-5-3000.pkl', './models/encoder-5-3000.pkl')\n",
    "shutil.move('C:/Users/DELL/ML/model/decoder-5-3000.pkl', './models/decoder-5-3000.pkl')\n",
    "shutil.move('C:/Users/DELL/ML/data/vocab.pkl', './data/vocab.pkl')\n",
    "\n"
   ],
   "id": "919f90089915d458",
   "outputs": [
    {
     "data": {
      "text/plain": [
       "'./data/vocab.pkl'"
      ]
     },
     "execution_count": 28,
     "metadata": {},
     "output_type": "execute_result"
    }
   ],
   "execution_count": 28
  },
  {
   "metadata": {
    "ExecuteTime": {
     "end_time": "2024-12-22T12:09:45.878014Z",
     "start_time": "2024-12-22T12:09:45.857028Z"
    }
   },
   "cell_type": "code",
   "source": [
    "import os\n",
    "\n",
    "# List contents of ./models/ directory\n",
    "models_files = os.listdir('./models/')\n",
    "print(\"Files in ./models/:\", models_files)\n",
    "\n",
    "# List contents of ./data/ directory\n",
    "data_files = os.listdir('./data/')\n",
    "print(\"Files in ./data/:\", data_files)\n"
   ],
   "id": "223b4403d81603c4",
   "outputs": [
    {
     "name": "stdout",
     "output_type": "stream",
     "text": [
      "Files in ./models/: ['decoder-5-3000.pkl', 'encoder-5-3000.pkl']\n",
      "Files in ./data/: ['vocab.pkl', 'vocap.zip']\n"
     ]
    }
   ],
   "execution_count": 29
  },
  {
   "metadata": {
    "ExecuteTime": {
     "end_time": "2024-12-22T12:13:56.624907Z",
     "start_time": "2024-12-22T12:13:56.613876Z"
    }
   },
   "cell_type": "code",
   "source": [
    "import os\n",
    "print(os.listdir('.'))\n"
   ],
   "id": "b7a70c14ac1d331c",
   "outputs": [
    {
     "name": "stdout",
     "output_type": "stream",
     "text": [
      "['.git', 'data', 'fra.txt', 'models', 'seq2seq.ipynb', 'Sequence to Sequence.ipynb', 'vocab.pkl']\n"
     ]
    }
   ],
   "execution_count": 32
  },
  {
   "metadata": {
    "ExecuteTime": {
     "end_time": "2024-12-22T12:20:00.082701Z",
     "start_time": "2024-12-22T12:19:59.047158Z"
    }
   },
   "cell_type": "code",
   "source": [
    "import argparse\n",
    "import matplotlib.pyplot as plt\n",
    "from PIL import Image\n",
    "\n",
    "# Set up the argument parser\n",
    "parser = argparse.ArgumentParser(description=\"Process and display an image\")\n",
    "parser.add_argument('--image', type=str, required=True, help='Path to the image')\n",
    "\n",
    "# Simulate the command-line argument (replace this with your actual path)\n",
    "args = parser.parse_args(['--image', 'model.png'])\n",
    "\n",
    "# Open the image\n",
    "img = Image.open(args.image)\n",
    "\n",
    "# Display the image using matplotlib\n",
    "plt.imshow(img)\n",
    "plt.axis('off')  # Turn off axis labels\n",
    "plt.show()\n"
   ],
   "id": "c856ef8eb0551b70",
   "outputs": [
    {
     "data": {
      "text/plain": [
       "<Figure size 640x480 with 1 Axes>"
      ],
      "image/png": "[encoded data removed]"
     },
     "metadata": {},
     "output_type": "display_data"
    }
   ],
   "execution_count": 38
  },
  {
   "metadata": {},
   "cell_type": "markdown",
   "source": "Problem 3 - Investigate what to do if you want to run it with Keras",
   "id": "717029bc41bb013e"
  },
  {
   "metadata": {},
   "cell_type": "markdown",
   "source": [
    "The key steps, as outlined, include the following:\n",
    "\n",
    "- Model Conversion: It was emphasized that the model architecture needs to be recreated in Keras to match the PyTorch model. This is necessary because PyTorch and Keras have different APIs for defining models. Therefore, the model must be manually re-implemented in Keras, ensuring that the layer types, layer configurations (such as activation functions, input dimensions, etc.), and connections are preserved.\n",
    "\n",
    "- Transfer of Weights: It was noted that to use pre-trained weights from PyTorch in a Keras model, the weights need to be converted into a format that Keras can understand. This process can be complex, as PyTorch and Keras store weights in different formats. The procedure for converting these weights was also explained.\n",
    "\n",
    "- Data Preparation: It was highlighted that since PyTorch and Keras have different conventions for image formats (e.g., channel order), ensuring the image data is correctly preprocessed for each framework is essential."
   ],
   "id": "570abfc0841e0720"
  },
  {
   "metadata": {},
   "cell_type": "markdown",
   "source": "Problem 4 - (Advanced assignment) Code reading and rewriting",
   "id": "961d98f12af038c5"
  },
  {
   "metadata": {
    "ExecuteTime": {
     "end_time": "2024-12-22T13:00:19.910674Z",
     "start_time": "2024-12-22T13:00:19.877182Z"
    }
   },
   "cell_type": "code",
   "source": [
    "import torch\n",
    "import torch.nn as nn\n",
    "import torchvision.models as models\n",
    "from torch.nn.utils.rnn import pack_padded_sequence\n",
    "\n",
    "\n",
    "class EncoderCNN(nn.Module):\n",
    "    def __init__(self, embed_size):\n",
    "        \"\"\"Load the pretrained ResNet-152 and replace top fc layer.\"\"\"\n",
    "        super(EncoderCNN, self).__init__()\n",
    "        resnet = models.resnet152(pretrained=True)\n",
    "        modules = list(resnet.children())[:-1]      # delete the last fc layer.\n",
    "        self.resnet = nn.Sequential(*modules)\n",
    "        self.linear = nn.Linear(resnet.fc.in_features, embed_size)\n",
    "        self.bn = nn.BatchNorm1d(embed_size, momentum=0.01)\n",
    "\n",
    "    def forward(self, images):\n",
    "        \"\"\"Extract feature vectors from input images.\"\"\"\n",
    "        with torch.no_grad():\n",
    "            features = self.resnet(images)\n",
    "        features = features.reshape(features.size(0), -1)\n",
    "        features = self.bn(self.linear(features))\n",
    "        return features\n",
    "\n",
    "\n",
    "class DecoderRNN(nn.Module):\n",
    "    def __init__(self, embed_size, hidden_size, vocab_size, num_layers, max_seq_length=20):\n",
    "        \"\"\"Set the hyper-parameters and build the layers.\"\"\"\n",
    "        super(DecoderRNN, self).__init__()\n",
    "        self.embed = nn.Embedding(vocab_size, embed_size)\n",
    "        self.lstm = nn.LSTM(embed_size, hidden_size, num_layers, batch_first=True)\n",
    "        self.linear = nn.Linear(hidden_size, vocab_size)\n",
    "        self.max_seg_length = max_seq_length\n",
    "\n",
    "    def forward(self, features, captions, lengths):\n",
    "        \"\"\"Decode image feature vectors and generates captions.\"\"\"\n",
    "        embeddings = self.embed(captions)\n",
    "        embeddings = torch.cat((features.unsqueeze(1), embeddings), 1)\n",
    "        packed = pack_padded_sequence(embeddings, lengths, batch_first=True)\n",
    "        hiddens, _ = self.lstm(packed)\n",
    "        outputs = self.linear(hiddens[0])\n",
    "        return outputs\n",
    "\n",
    "    def sample(self, features, states=None):\n",
    "        \"\"\"Generate captions for given image features using greedy search.\"\"\"\n",
    "        sampled_ids = []\n",
    "        inputs = features.unsqueeze(1)\n",
    "        for i in range(self.max_seg_length):\n",
    "            hiddens, states = self.lstm(inputs, states)          # hiddens: (batch_size, 1, hidden_size)\n",
    "            outputs = self.linear(hiddens.squeeze(1))            # outputs:  (batch_size, vocab_size)\n",
    "            _, predicted = outputs.max(1)                        # predicted: (batch_size)\n",
    "            sampled_ids.append(predicted)\n",
    "            inputs = self.embed(predicted)                       # inputs: (batch_size, embed_size)\n",
    "            inputs = inputs.unsqueeze(1)                         # inputs: (batch_size, 1, embed_size)\n",
    "        sampled_ids = torch.stack(sampled_ids, 1)                # sampled_ids: (batch_size, max_seq_length)\n",
    "        return sampled_ids\n",
    "\n",
    "# Combining the EncoderCNN and DecoderRNN\n",
    "from tensorflow.keras.models import Model\n",
    "from tensorflow.keras.layers import Input\n",
    "\n",
    "class CaptioningModel(Model):\n",
    "    def __init__(self, encoder, decoder):\n",
    "        super(CaptioningModel, self).__init__()\n",
    "        self.encoder = encoder\n",
    "        self.decoder = decoder\n",
    "\n",
    "    def call(self, images, captions, lengths):\n",
    "        features = self.encoder(images)\n",
    "        outputs = self.decoder(features, captions, lengths)\n",
    "        return outputs\n",
    "\n"
   ],
   "id": "1d6e1cec4bbaebeb",
   "outputs": [],
   "execution_count": 43
  },
  {
   "metadata": {
    "ExecuteTime": {
     "end_time": "2024-12-22T13:01:30.872540Z",
     "start_time": "2024-12-22T13:01:25.548110Z"
    }
   },
   "cell_type": "code",
   "source": [
    "import tensorflow as tf\n",
    "from keras.layers import LSTM, Embedding, Dense, Input\n",
    "from keras.models import Model\n",
    "\n",
    "class DecoderRNN(tf.keras.Model):\n",
    "    def __init__(self, embed_size, hidden_size, vocab_size, num_layers, max_seq_length):\n",
    "        super(DecoderRNN, self).__init__()\n",
    "        self.embed = Embedding(vocab_size, embed_size)\n",
    "        self.num_layers = num_layers\n",
    "        self.lstm_layers = []\n",
    "\n",
    "        # Create the LSTM layers dynamically\n",
    "        for _ in range(num_layers):\n",
    "            self.lstm_layers.append(LSTM(hidden_size, return_sequences=True, return_state=True))\n",
    "\n",
    "        self.dense = Dense(vocab_size, activation='sigmoid')\n",
    "        self.max_seq_length = max_seq_length\n",
    "\n",
    "    def call(self, inputs, initial_state=None):\n",
    "        x = self.embed(inputs)\n",
    "\n",
    "        # Apply stacked LSTM layers\n",
    "        for lstm in self.lstm_layers:\n",
    "            x, state_h, state_c = lstm(x, initial_state=initial_state)\n",
    "            initial_state = [state_h, state_c]  # Update initial state for the next LSTM layer\n",
    "\n",
    "        output = self.dense(x)\n",
    "        return output\n",
    "\n",
    "# Example usage\n",
    "embed_size = 256\n",
    "hidden_size = 512\n",
    "vocab_size = 10000\n",
    "num_layers = 2\n",
    "max_seq_length = 20\n",
    "\n",
    "decoder = DecoderRNN(embed_size, hidden_size, vocab_size, num_layers, max_seq_length)\n",
    "\n",
    "# Creating a dummy input for testing\n",
    "input_seq = tf.random.uniform((32, max_seq_length), maxval=vocab_size, dtype=tf.int32)\n",
    "\n",
    "output = decoder(input_seq)\n",
    "print(output.shape)\n"
   ],
   "id": "50925bfeebe743ec",
   "outputs": [
    {
     "name": "stdout",
     "output_type": "stream",
     "text": [
      "(32, 20, 10000)\n"
     ]
    }
   ],
   "execution_count": 45
  },
  {
   "metadata": {},
   "cell_type": "markdown",
   "source": [
    "Problem 5 - (Advanced assignment) Advanced research\n",
    "\n",
    "Machine translation techniques have significantly improved translation quality between languages like Japanese and English. Neural Machine Translation (NMT) uses deep learning models, particularly sequence-to-sequence (Seq2Seq) architectures, to translate text. Transformers are a more advanced version of Seq2Seq, replacing recurrent layers with attention mechanisms and becoming the standard for machine translation tasks. Transformer architecture uses self-attention mechanisms to capture dependencies between words in a sentence, regardless of their distance from each other. Key components of Transformers include self-attention, multi-head attention, and positional encoding.\n",
    "\n",
    "Pre-trained models (Transfer Learning) include Multilingual BERT (mBERT), T5 (Text-to-Text Transfer Transformer), and MarianMT. Reinforcement learning is also used in NMT to optimize translation quality by receiving feedback from human evaluators or predefined metrics.\n",
    "\n",
    "Generating images from text is another area of interest in computer vision and natural language processing. Generative Adversarial Networks (GANs) are one of the most prominent methods for generating images from text. AttnGAN uses attention mechanisms to refine the generated image based on the details provided in the textual description. StackGAN uses multiple GANs in a stacked manner, while DALL·E is a transformer-based model designed to generate high-quality images from textual descriptions.\n",
    "\n",
    "CLIP (Contrastive Language-Image Pretraining) is a model trained to understand the relationship between images and textual descriptions. It can be used to generate images by mapping textual descriptions to an embedding space that corresponds to the images. CLIP-based techniques can be used in combination with GANs to condition the generative process on a given textual input. VQ-VAE is another model that can be used for text-to-image generation.\n",
    "\n",
    "In conclusion, advanced techniques like Transformers, BERT, GPT, and MarianMT have revolutionized machine translation by improving accuracy and efficiency. Attention mechanisms and reinforcement learning also contribute significantly to enhancing translation quality."
   ],
   "id": "5fddda7964f8e11c"
  },
  {
   "metadata": {},
   "cell_type": "code",
   "outputs": [],
   "execution_count": null,
   "source": "",
   "id": "b939caffb7a91702"
  }
 ],
 "metadata": {
  "kernelspec": {
   "display_name": "Python 3",
   "language": "python",
   "name": "python3"
  },
  "language_info": {
   "codemirror_mode": {
    "name": "ipython",
    "version": 2
   },
   "file_extension": ".py",
   "mimetype": "text/x-python",
   "name": "python",
   "nbconvert_exporter": "python",
   "pygments_lexer": "ipython2",
   "version": "2.7.6"
  }
 },
 "nbformat": 4,
 "nbformat_minor": 5
}
