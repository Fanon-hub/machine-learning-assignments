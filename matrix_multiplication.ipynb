{
 "cells": [
  {
   "cell_type": "code",
   "execution_count": null,
   "metadata": {},
   "outputs": [],
   "source": [
    "\n",
    "# defining matrices A and B\n",
    "A=([[-1, 2, 3], [4, -5, 6], [7, 8, -9]])\n",
    "\n",
    "B=([[0, 2, 1], [0, 2, -8], [2, 9, -1]])\n",
    "\n",
    "# calculating the matrix multiplication\n",
    "# first row \n",
    "(AB)11=(-1)(0)+(2)(0)+(3)(2)=0+0+6=6,\n",
    "(AB)12=(-1)(2)+(2)(2)+(3)(9)=-2+4+27=29,\n",
    "(AB)13=(-1)(1)+(2)(-8)+(3)(-1)=-1-16-3=-20\n",
    "# second row\n",
    "(AB)21=(4)(0)+(-5)(0)+(6)(2)=0+0+12=12,\n",
    "(AB)22=(4)(2)+(-5)(2)+(6)(-8)=8-10-48=-50,\n",
    "(AB)23=(4)(1)+(-5)(-8)+(6)(-1)=4+40-6=38,\n",
    "# third row\n",
    "(AB)31=(7)(0)+(8)(0)+(-9)(2)=0+0-18=-18,\n",
    "(AB)32=(7)(2)+(8)(2)+(-9)(-9)=14+16+72=-51,\n",
    "(AB)33=(7)(1)+(8)(-8)+(-9)(-1)=7-64+9=-48\n",
    "\n",
    "# resulting matrix will be AB\n",
    "AB=([\n",
    "    [6, 29, -20], \n",
    "     [12, 52, 38], \n",
    "     [-18, -51, -48]\n",
    "     ])\n",
    "\n"
   ]
  },
  {
   "cell_type": "code",
   "execution_count": 7,
   "metadata": {},
   "outputs": [
    {
     "name": "stdout",
     "output_type": "stream",
     "text": [
      "Matrix A:\n",
      "[[-1  2  3]\n",
      " [ 4 -5  6]\n",
      " [ 7  8 -9]]\n",
      "Matrix B:\n",
      "[[ 0  2  1]\n",
      " [ 0  2 -8]\n",
      " [ 2  9 -1]]\n",
      "Matrix A * B (using np.matmul()):\n",
      "[[  6  29 -20]\n",
      " [ 12  52  38]\n",
      " [-18 -51 -48]]\n",
      "Matrix A * B (using @ operator):\n",
      "[[  6  29 -20]\n",
      " [ 12  52  38]\n",
      " [-18 -51 -48]]\n"
     ]
    }
   ],
   "source": [
    "import numpy as np\n",
    "\n",
    "# defining matrices A and B\n",
    "A= np.array([\n",
    "    [-1, 2, 3], \n",
    "    [4, -5, 6], \n",
    "    [7, 8, -9]\n",
    "    ])\n",
    "\n",
    "B= np.array([\n",
    "    [0, 2, 1], \n",
    "    [0, 2, -8], \n",
    "    [2, 9, -1]\n",
    "    ])\n",
    "\n",
    "# using np.matmul()\n",
    "AB_matmul= np.matmul(A, B)\n",
    "# using @ operator\n",
    "AB_at= A @ B\n",
    "# using np.dot()\n",
    "# AB_dot= np.\n",
    "\n",
    "# printing the output\n",
    "print(\"Matrix A:\")\n",
    "print(A)\n",
    "print(\"Matrix B:\")\n",
    "print(B)\n",
    "print(\"Matrix A * B (using np.matmul()):\")\n",
    "print(AB_matmul)\n",
    "print(\"Matrix A * B (using @ operator):\")\n",
    "print(AB_at)\n",
    "\n"
   ]
  },
  {
   "cell_type": "code",
   "execution_count": 8,
   "metadata": {},
   "outputs": [
    {
     "name": "stdout",
     "output_type": "stream",
     "text": [
      "Matrix A:\n",
      "[[-1  2  3]\n",
      " [ 4 -5  6]\n",
      " [ 7  8 -9]]\n",
      "\n",
      "Matrix B:\n",
      "[[ 0  2  1]\n",
      " [ 0  2 -8]\n",
      " [ 2  9 -1]]\n",
      "\n",
      "Matrix Product AB (manual calculation):\n",
      "[[  6.  29. -20.]\n",
      " [ 12.  52.  38.]\n",
      " [-18. -51. -48.]]\n"
     ]
    }
   ],
   "source": [
    "import numpy as np\n",
    "\n",
    "# defining matrices A and B\n",
    "A= np.array([\n",
    "    [-1, 2, 3], \n",
    "    [4, -5, 6], \n",
    "    [7, 8, -9]\n",
    "    ])\n",
    "\n",
    "B= np.array([\n",
    "    [0, 2, 1], \n",
    "    [0, 2, -8], \n",
    "    [2, 9, -1]\n",
    "    ])\n",
    "# Initialize an empty result matrix with zeros\n",
    "result = np.zeros ((A.shape[0], B.shape[1]))\n",
    "\n",
    "# manual multiplication manually\n",
    "for i in range(A.shape[0]): \n",
    "    for j in range(B.shape[1]):\n",
    "        for k in range(A.shape[1]):\n",
    "            result[i][j] += A[i][k] * B[k][j]\n",
    "\n",
    "# print the result\n",
    "print(\"Matrix A:\")\n",
    "print(A)\n",
    "print(\"\\nMatrix B:\")\n",
    "print(B)\n",
    "print(\"\\nMatrix Product AB (manual calculation):\")\n",
    "print(result)"
   ]
  },
  {
   "cell_type": "code",
   "execution_count": 9,
   "metadata": {},
   "outputs": [
    {
     "name": "stdout",
     "output_type": "stream",
     "text": [
      "Matrix A:\n",
      "[[-1  2  3]\n",
      " [ 4 -5  6]\n",
      " [ 7  8 -9]]\n",
      "Matrix B:\n",
      "[[ 0  2  1]\n",
      " [ 0  2 -8]\n",
      " [ 2  9 -1]]\n",
      "Result of matrix multiplication:\n",
      "[[  6.  29. -20.]\n",
      " [ 12.  52.  38.]\n",
      " [-18. -51. -48.]]\n"
     ]
    }
   ],
   "source": [
    "import numpy as np\n",
    "\n",
    "def matrix_multiplication(A, B):\n",
    "    A=np.array(A)\n",
    "    B=np.array(B)\n",
    "    # validating matrix dimensions\n",
    "    if A.shape[1] != B.shape[0]:\n",
    "        raise ValueError(\"Matrix dimensions are not compatible for multiplication.\")\n",
    "    # initializing an empty result matrix with zeros \n",
    "    result = np.zeros((A.shape[0], B.shape[1]))\n",
    "    # performing matrix multiplication\n",
    "    for i in range(A.shape[0]):\n",
    "        for j in range(B.shape[1]):\n",
    "            for k in range(A.shape[1]):\n",
    "                result[i][j] += A[i][k] * B[k][j]\n",
    "    return result\n",
    "\n",
    "A = [[-1, 2, 3], [4, -5, 6], [7, 8, -9]]\n",
    "B = [[0, 2, 1], [0, 2, -8], [2, 9, -1]]\n",
    "\n",
    "calculated_result = matrix_multiplication(A, B)\n",
    "print(\"Matrix A:\")\n",
    "print(np.array(A))\n",
    "print(\"Matrix B:\")\n",
    "print(np.array(B))\n",
    "print(\"Result of matrix multiplication:\")\n",
    "print(calculated_result)\n"
   ]
  },
  {
   "cell_type": "code",
   "execution_count": 10,
   "metadata": {},
   "outputs": [
    {
     "name": "stdout",
     "output_type": "stream",
     "text": [
      "Erroe: Number of columns in A must match number of rows in B\n"
     ]
    }
   ],
   "source": [
    "import numpy as np\n",
    "\n",
    "def matrix_multiplication_safe(A, B):\n",
    "\n",
    "    A=np.array(A)\n",
    "    B=np.array(B)\n",
    "\n",
    "    # validating input dimesnsions\n",
    "    if A.ndim != 2 or B.ndim != 2:\n",
    "        raise ValueError(\"Both matrices must be 2D\")\n",
    "\n",
    "    if A.shape[1] != B.shape[0]:\n",
    "        raise ValueError(\"Number of columns in A must match number of rows in B\")\n",
    "    # initializing empty result matrix with zeros\n",
    "    result = np.zeros((A.shape[0], B.shape[1]))\n",
    "\n",
    "    # performing matrix multiplication\n",
    "    for i in range(A.shape[0]): # iterating over rows of A\n",
    "        for j in range(B.shape[1]): # iterating over columns of B\n",
    "            for k in range(A.shape[1]): # iterating over columns of A and rows of B\n",
    "                result[i][j] += A[i][k] * B[k][j]\n",
    "    # returning result matrix\n",
    "    return result \n",
    "\n",
    "d_ndarray = np.array([[-1, 2, 3], [4, -5, 6]])\n",
    "f_ndarray = np.array([[-9, 8, 7], [6, -5, 4]])\n",
    "\n",
    "try:\n",
    "    # attempting to multiply matrices D and F\n",
    "    result = matrix_multiplication_safe(d_ndarray, f_ndarray)\n",
    "    print(\"Matrix product DF\")\n",
    "    print(result)\n",
    "except ValueError as e:\n",
    "    print(\"Erroe:\", e)\n"
   ]
  },
  {
   "cell_type": "code",
   "execution_count": 13,
   "metadata": {},
   "outputs": [
    {
     "name": "stdout",
     "output_type": "stream",
     "text": [
      "Matrix product D x F.T(F transposed):\n",
      "[[ 46.  -4.]\n",
      " [-34.  73.]]\n"
     ]
    }
   ],
   "source": [
    "import numpy as np\n",
    "\n",
    "def matrix_multiplication_safe_with_transpose(A, B, transpose_A=False, transpose_B=False):\n",
    "    \n",
    "    A=np.array(A)\n",
    "    B=np.array(B)\n",
    "    # Applying transposition  for the inputs\n",
    "    if transpose_A:\n",
    "        A = A.T\n",
    "    if transpose_B:\n",
    "        B = B.T\n",
    "    # Checking if the matrices can be multiplied\n",
    "    if A.shape[1] != B.shape[0]:\n",
    "        raise ValueError(\"The number of columns in A must be equal to the number of rows in B.\")\n",
    "    # initializing an empty result matrix with zeros \n",
    "    result = np.zeros((A.shape[0], B.shape[1]))\n",
    "    # Performing matrix multiplication\n",
    "    for i in range(A.shape[0]):\n",
    "        for j in range(B.shape[1]):\n",
    "            for k in range(A.shape[1]):\n",
    "                result[i][j] += A[i][k] * B[k][j]\n",
    "    return result\n",
    "\n",
    "d_ndarray=np.array([[-1,2,3],[4,-5,6]])\n",
    "f_ndarray=np.array([[-9,8,7],[6,-5,4]])\n",
    "# transposing matrix to make the multiplication possible\n",
    "try:\n",
    "    result = matrix_multiplication_safe_with_transpose(d_ndarray, f_ndarray, transpose_B=True)\n",
    "    print(\"Matrix product D x F.T(F transposed):\")\n",
    "    print(result)\n",
    "except ValueError as e:\n",
    "    print(\"Errror:\", e)\n"
   ]
  }
 ],
 "metadata": {
  "kernelspec": {
   "display_name": "Python 3",
   "language": "python",
   "name": "python3"
  },
  "language_info": {
   "codemirror_mode": {
    "name": "ipython",
    "version": 3
   },
   "file_extension": ".py",
   "mimetype": "text/x-python",
   "name": "python",
   "nbconvert_exporter": "python",
   "pygments_lexer": "ipython3",
   "version": "3.13.0"
  }
 },
 "nbformat": 4,
 "nbformat_minor": 2
}
